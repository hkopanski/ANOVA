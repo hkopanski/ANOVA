{
 "cells": [
  {
   "cell_type": "code",
   "execution_count": 80,
   "id": "76d16210-2dba-4933-971e-373dea7b6104",
   "metadata": {},
   "outputs": [],
   "source": [
    "import pandas as pd\n",
    "import numpy as np\n",
    "import matplotlib.pyplot as plt\n",
    "import seaborn as sns\n",
    "from scipy.stats import f\n",
    "import statsmodels.api as sm"
   ]
  },
  {
   "cell_type": "code",
   "execution_count": 2,
   "id": "8f75301a-a746-4082-952b-d8fd9bfb6b8d",
   "metadata": {},
   "outputs": [],
   "source": [
    "df_islander = pd.read_csv(\"Islander_data.csv\")"
   ]
  },
  {
   "cell_type": "code",
   "execution_count": 3,
   "id": "c4e65322-1c6f-4f79-a8f8-f6e0f6c233a0",
   "metadata": {},
   "outputs": [
    {
     "data": {
      "text/html": [
       "<div>\n",
       "<style scoped>\n",
       "    .dataframe tbody tr th:only-of-type {\n",
       "        vertical-align: middle;\n",
       "    }\n",
       "\n",
       "    .dataframe tbody tr th {\n",
       "        vertical-align: top;\n",
       "    }\n",
       "\n",
       "    .dataframe thead th {\n",
       "        text-align: right;\n",
       "    }\n",
       "</style>\n",
       "<table border=\"1\" class=\"dataframe\">\n",
       "  <thead>\n",
       "    <tr style=\"text-align: right;\">\n",
       "      <th></th>\n",
       "      <th>first_name</th>\n",
       "      <th>last_name</th>\n",
       "      <th>age</th>\n",
       "      <th>Happy_Sad_group</th>\n",
       "      <th>Dosage</th>\n",
       "      <th>Drug</th>\n",
       "      <th>Mem_Score_Before</th>\n",
       "      <th>Mem_Score_After</th>\n",
       "      <th>Diff</th>\n",
       "    </tr>\n",
       "  </thead>\n",
       "  <tbody>\n",
       "    <tr>\n",
       "      <th>0</th>\n",
       "      <td>Bastian</td>\n",
       "      <td>Carrasco</td>\n",
       "      <td>25</td>\n",
       "      <td>H</td>\n",
       "      <td>1</td>\n",
       "      <td>A</td>\n",
       "      <td>63.5</td>\n",
       "      <td>61.2</td>\n",
       "      <td>-2.3</td>\n",
       "    </tr>\n",
       "    <tr>\n",
       "      <th>1</th>\n",
       "      <td>Evan</td>\n",
       "      <td>Carrasco</td>\n",
       "      <td>52</td>\n",
       "      <td>S</td>\n",
       "      <td>1</td>\n",
       "      <td>A</td>\n",
       "      <td>41.6</td>\n",
       "      <td>40.7</td>\n",
       "      <td>-0.9</td>\n",
       "    </tr>\n",
       "    <tr>\n",
       "      <th>2</th>\n",
       "      <td>Florencia</td>\n",
       "      <td>Carrasco</td>\n",
       "      <td>29</td>\n",
       "      <td>H</td>\n",
       "      <td>1</td>\n",
       "      <td>A</td>\n",
       "      <td>59.7</td>\n",
       "      <td>55.1</td>\n",
       "      <td>-4.6</td>\n",
       "    </tr>\n",
       "    <tr>\n",
       "      <th>3</th>\n",
       "      <td>Holly</td>\n",
       "      <td>Carrasco</td>\n",
       "      <td>50</td>\n",
       "      <td>S</td>\n",
       "      <td>1</td>\n",
       "      <td>A</td>\n",
       "      <td>51.7</td>\n",
       "      <td>51.2</td>\n",
       "      <td>-0.5</td>\n",
       "    </tr>\n",
       "    <tr>\n",
       "      <th>4</th>\n",
       "      <td>Justin</td>\n",
       "      <td>Carrasco</td>\n",
       "      <td>52</td>\n",
       "      <td>H</td>\n",
       "      <td>1</td>\n",
       "      <td>A</td>\n",
       "      <td>47.0</td>\n",
       "      <td>47.1</td>\n",
       "      <td>0.1</td>\n",
       "    </tr>\n",
       "  </tbody>\n",
       "</table>\n",
       "</div>"
      ],
      "text/plain": [
       "  first_name last_name  age Happy_Sad_group  Dosage Drug  Mem_Score_Before  \\\n",
       "0    Bastian  Carrasco   25               H       1    A              63.5   \n",
       "1       Evan  Carrasco   52               S       1    A              41.6   \n",
       "2  Florencia  Carrasco   29               H       1    A              59.7   \n",
       "3      Holly  Carrasco   50               S       1    A              51.7   \n",
       "4     Justin  Carrasco   52               H       1    A              47.0   \n",
       "\n",
       "   Mem_Score_After  Diff  \n",
       "0             61.2  -2.3  \n",
       "1             40.7  -0.9  \n",
       "2             55.1  -4.6  \n",
       "3             51.2  -0.5  \n",
       "4             47.1   0.1  "
      ]
     },
     "execution_count": 3,
     "metadata": {},
     "output_type": "execute_result"
    }
   ],
   "source": [
    "df_islander.head()"
   ]
  },
  {
   "cell_type": "code",
   "execution_count": 14,
   "id": "92b1bfd0-3c57-48e6-a284-715f68f14289",
   "metadata": {},
   "outputs": [],
   "source": [
    "A_mean = df_islander[df_islander[\"Drug\"] == \"A\"][\"Diff\"].mean()\n",
    "S_mean = df_islander[df_islander[\"Drug\"] == \"S\"][\"Diff\"].mean()\n",
    "T_mean = df_islander[df_islander[\"Drug\"] == \"T\"][\"Diff\"].mean()\n",
    "overall_mean = df_islander[\"Diff\"].mean()"
   ]
  },
  {
   "cell_type": "code",
   "execution_count": 38,
   "id": "bb7af588-b099-4c59-b7b1-67c374176873",
   "metadata": {},
   "outputs": [
    {
     "data": {
      "text/plain": [
       "3"
      ]
     },
     "execution_count": 38,
     "metadata": {},
     "output_type": "execute_result"
    }
   ],
   "source": [
    "len(df_islander[\"Drug\"].unique())"
   ]
  },
  {
   "cell_type": "code",
   "execution_count": 32,
   "id": "60f25389-333c-44dd-b286-f283443f5b3c",
   "metadata": {},
   "outputs": [],
   "source": [
    "SSTotal = np.sum((df_islander[\"Diff\"] - overall_mean)**2)\n",
    "SSTreat = df_islander[df_islander[\"Drug\"] == \"T\"][\"Diff\"].count() * (T_mean - overall_mean)**2 + df_islander[df_islander[\"Drug\"] == \"A\"][\"Diff\"].count() * (A_mean - overall_mean)**2 + df_islander[df_islander[\"Drug\"] == \"S\"][\"Diff\"].count() * (S_mean - overall_mean)**2\n",
    "SSError = np.sum((df_islander[df_islander[\"Drug\"] == \"T\"][\"Diff\"] - T_mean)**2) + np.sum((df_islander[df_islander[\"Drug\"] == \"A\"][\"Diff\"] - A_mean)**2) + np.sum((df_islander[df_islander[\"Drug\"] == \"S\"][\"Diff\"] - S_mean)**2)"
   ]
  },
  {
   "cell_type": "code",
   "execution_count": 43,
   "id": "186d8531-5068-4ba1-ba75-c0154053ca6e",
   "metadata": {},
   "outputs": [],
   "source": [
    "SS = np.array([SSTreat, SSError, SSTotal])\n",
    "DF = np.array([len(df_islander[\"Drug\"].unique()) - 1, df_islander.shape[0] - len(df_islander[\"Drug\"].unique()), df_islander.shape[0] - 1])"
   ]
  },
  {
   "cell_type": "code",
   "execution_count": 44,
   "id": "15e450ae-9275-4eae-af68-4f326dddd75c",
   "metadata": {},
   "outputs": [
    {
     "data": {
      "text/plain": [
       "18480.525755383926"
      ]
     },
     "execution_count": 44,
     "metadata": {},
     "output_type": "execute_result"
    }
   ],
   "source": [
    "SSTotal - SSTreat"
   ]
  },
  {
   "cell_type": "code",
   "execution_count": 47,
   "id": "4e8f820f-00f4-4396-b43d-b8e2b1b10ac6",
   "metadata": {},
   "outputs": [
    {
     "name": "stdout",
     "output_type": "stream",
     "text": [
      "[array([ 4304.78515371, 18480.52575538, 22785.31090909]), array([  2, 195, 197])]\n"
     ]
    }
   ],
   "source": [
    "print([SS, DF])"
   ]
  },
  {
   "cell_type": "code",
   "execution_count": 48,
   "id": "4260ca8e-6751-49a6-b690-6f8b619d1b4b",
   "metadata": {},
   "outputs": [],
   "source": [
    "MS = SS/DF"
   ]
  },
  {
   "cell_type": "code",
   "execution_count": 49,
   "id": "5e467d36-e2d6-48e7-bf72-55f04c11f598",
   "metadata": {},
   "outputs": [],
   "source": [
    "F = MS[0]/MS[1]"
   ]
  },
  {
   "cell_type": "code",
   "execution_count": 50,
   "id": "f23761ce-04e9-4d10-b711-e8125fcf5dd8",
   "metadata": {},
   "outputs": [
    {
     "data": {
      "text/plain": [
       "22.711288522955336"
      ]
     },
     "execution_count": 50,
     "metadata": {},
     "output_type": "execute_result"
    }
   ],
   "source": [
    "F"
   ]
  },
  {
   "cell_type": "code",
   "execution_count": 79,
   "id": "9c44e9c4-f6b9-4ef9-a1c7-4fba3a00692c",
   "metadata": {},
   "outputs": [],
   "source": [
    "P_value = 1 - f.cdf(F, DF[0], DF[1])"
   ]
  },
  {
   "cell_type": "code",
   "execution_count": 69,
   "id": "967aacb8-98eb-47bc-913d-8d4b6e3086f1",
   "metadata": {},
   "outputs": [
    {
     "data": {
      "text/plain": [
       "1.3592142966700749e-09"
      ]
     },
     "execution_count": 69,
     "metadata": {},
     "output_type": "execute_result"
    }
   ],
   "source": [
    "P_value"
   ]
  },
  {
   "cell_type": "code",
   "execution_count": 75,
   "id": "9e934b31-1474-4890-b75a-ea4b60875d70",
   "metadata": {},
   "outputs": [
    {
     "data": {
      "text/plain": [
       "array([[4.30478515e+03, 2.00000000e+00, 2.15239258e+03, 2.27112885e+01],\n",
       "       [1.84805258e+04, 1.95000000e+02, 9.47719270e+01, 0.00000000e+00],\n",
       "       [2.27853109e+04, 1.97000000e+02, 1.15661477e+02, 0.00000000e+00]])"
      ]
     },
     "execution_count": 75,
     "metadata": {},
     "output_type": "execute_result"
    }
   ],
   "source": [
    "np.column_stack([SS, DF, MS, [F, 0, 0]])"
   ]
  },
  {
   "cell_type": "code",
   "execution_count": 84,
   "id": "02412b36-67c4-4105-8df7-d1948435ae79",
   "metadata": {},
   "outputs": [
    {
     "data": {
      "text/plain": [
       "<AxesSubplot:xlabel='Drug', ylabel='Diff'>"
      ]
     },
     "execution_count": 84,
     "metadata": {},
     "output_type": "execute_result"
    },
    {
     "data": {
      "image/png": "[encoded data removed]",
      "text/plain": [
       "<Figure size 432x288 with 1 Axes>"
      ]
     },
     "metadata": {
      "needs_background": "light"
     },
     "output_type": "display_data"
    }
   ],
   "source": [
    "sns.boxplot(data=df_islander, x=\"Drug\", y=\"Diff\")"
   ]
  },
  {
   "cell_type": "code",
   "execution_count": 85,
   "id": "74d8c9da-4cb4-4817-a383-696ae8fe0090",
   "metadata": {},
   "outputs": [
    {
     "data": {
      "text/plain": [
       "<AxesSubplot:title={'center':'Diff'}, xlabel='Drug'>"
      ]
     },
     "execution_count": 85,
     "metadata": {},
     "output_type": "execute_result"
    },
    {
     "data": {
      "image/png": "[encoded data removed]",
      "text/plain": [
       "<Figure size 432x288 with 1 Axes>"
      ]
     },
     "metadata": {
      "needs_background": "light"
     },
     "output_type": "display_data"
    }
   ],
   "source": [
    "df_islander.boxplot(by = \"Drug\", column = [\"Diff\"]) "
   ]
  },
  {
   "cell_type": "code",
   "execution_count": 89,
   "id": "e1bab1b3-0eef-4f6a-9679-08d997de7d4a",
   "metadata": {},
   "outputs": [
    {
     "ename": "SyntaxError",
     "evalue": "expression cannot contain assignment, perhaps you meant \"==\"? (2366896381.py, line 2)",
     "output_type": "error",
     "traceback": [
      "\u001b[0;36m  File \u001b[0;32m\"/tmp/ipykernel_32411/2366896381.py\"\u001b[0;36m, line \u001b[0;32m2\u001b[0m\n\u001b[0;31m    options(repr.plot.width=4, repr.plot.height=3)\u001b[0m\n\u001b[0m            ^\u001b[0m\n\u001b[0;31mSyntaxError\u001b[0m\u001b[0;31m:\u001b[0m expression cannot contain assignment, perhaps you meant \"==\"?\n"
     ]
    }
   ],
   "source": [
    "#fig, ax = plt.subplots(dpi = 300)\n",
    "\n",
    "sm.qqplot(df_islander[\"Diff\"])\n",
    "plt.show()"
   ]
  },
  {
   "cell_type": "code",
   "execution_count": null,
   "id": "4845e871-5bad-4452-b1d4-bc0011efd45b",
   "metadata": {},
   "outputs": [],
   "source": [
    "percs = np.linspace(0,100,21)\n",
    "qn_a = np.percentile(a, percs)\n",
    "qn_b = np.percentile(b, percs)"
   ]
  }
 ],
 "metadata": {
  "kernelspec": {
   "display_name": "Python 3 (ipykernel)",
   "language": "python",
   "name": "python3"
  },
  "language_info": {
   "codemirror_mode": {
    "name": "ipython",
    "version": 3
   },
   "file_extension": ".py",
   "mimetype": "text/x-python",
   "name": "python",
   "nbconvert_exporter": "python",
   "pygments_lexer": "ipython3",
   "version": "3.10.6"
  }
 },
 "nbformat": 4,
 "nbformat_minor": 5
}

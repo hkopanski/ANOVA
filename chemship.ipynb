{
 "cells": [
  {
   "cell_type": "code",
   "execution_count": 1,
   "id": "926bdb60-3c6d-49d5-b99c-f16bef032ab2",
   "metadata": {},
   "outputs": [
    {
     "name": "stderr",
     "output_type": "stream",
     "text": [
      "── \u001b[1mAttaching packages\u001b[22m ────────────────────────────────────────────────────────────────────────────────────────────── tidyverse 1.3.1 ──\n",
      "\n",
      "\u001b[32m✔\u001b[39m \u001b[34mggplot2\u001b[39m 3.3.6     \u001b[32m✔\u001b[39m \u001b[34mpurrr  \u001b[39m 0.3.4\n",
      "\u001b[32m✔\u001b[39m \u001b[34mtibble \u001b[39m 3.1.7     \u001b[32m✔\u001b[39m \u001b[34mdplyr  \u001b[39m 1.0.9\n",
      "\u001b[32m✔\u001b[39m \u001b[34mtidyr  \u001b[39m 1.2.0     \u001b[32m✔\u001b[39m \u001b[34mstringr\u001b[39m 1.4.0\n",
      "\u001b[32m✔\u001b[39m \u001b[34mreadr  \u001b[39m 2.1.2     \u001b[32m✔\u001b[39m \u001b[34mforcats\u001b[39m 0.5.1\n",
      "\n",
      "── \u001b[1mConflicts\u001b[22m ───────────────────────────────────────────────────────────────────────────────────────────────── tidyverse_conflicts() ──\n",
      "\u001b[31m✖\u001b[39m \u001b[34mdplyr\u001b[39m::\u001b[32mfilter()\u001b[39m masks \u001b[34mstats\u001b[39m::filter()\n",
      "\u001b[31m✖\u001b[39m \u001b[34mdplyr\u001b[39m::\u001b[32mlag()\u001b[39m    masks \u001b[34mstats\u001b[39m::lag()\n",
      "\n"
     ]
    }
   ],
   "source": [
    "library(tidyverse)"
   ]
  },
  {
   "cell_type": "code",
   "execution_count": 4,
   "id": "70a14c7b-2186-4d38-86fd-96afd5414864",
   "metadata": {},
   "outputs": [
    {
     "name": "stderr",
     "output_type": "stream",
     "text": [
      "\u001b[1mRows: \u001b[22m\u001b[34m198\u001b[39m \u001b[1mColumns: \u001b[22m\u001b[34m9\u001b[39m\n",
      "\u001b[36m──\u001b[39m \u001b[1mColumn specification\u001b[22m \u001b[36m───────────────────────────────────────────────────────────────────────────────────────────────────────────────\u001b[39m\n",
      "\u001b[1mDelimiter:\u001b[22m \",\"\n",
      "\u001b[31mchr\u001b[39m (4): first_name, last_name, Happy_Sad_group, Drug\n",
      "\u001b[32mdbl\u001b[39m (5): age, Dosage, Mem_Score_Before, Mem_Score_After, Diff\n",
      "\n",
      "\u001b[36mℹ\u001b[39m Use `spec()` to retrieve the full column specification for this data.\n",
      "\u001b[36mℹ\u001b[39m Specify the column types or set `show_col_types = FALSE` to quiet this message.\n"
     ]
    },
    {
     "data": {
      "text/plain": [
       "\n",
       "Call:\n",
       "lm(formula = Diff ~ Drug, data = df_island)\n",
       "\n",
       "Residuals:\n",
       "    Min      1Q  Median      3Q     Max \n",
       "-40.229  -4.835   0.529   5.088  39.530 \n",
       "\n",
       "Coefficients:\n",
       "            Estimate Std. Error t value Pr(>|t|)    \n",
       "(Intercept)    9.470      1.189   7.963 1.36e-13 ***\n",
       "DrugS         -9.641      1.688  -5.711 4.15e-08 ***\n",
       "DrugT        -10.058      1.695  -5.934 1.33e-08 ***\n",
       "---\n",
       "Signif. codes:  0 ‘***’ 0.001 ‘**’ 0.01 ‘*’ 0.05 ‘.’ 0.1 ‘ ’ 1\n",
       "\n",
       "Residual standard error: 9.735 on 195 degrees of freedom\n",
       "Multiple R-squared:  0.1889,\tAdjusted R-squared:  0.1806 \n",
       "F-statistic: 22.71 on 2 and 195 DF,  p-value: 1.359e-09\n"
      ]
     },
     "metadata": {},
     "output_type": "display_data"
    },
    {
     "data": {
      "text/plain": [
       "\n",
       "Call:\n",
       "lm(formula = Diff ~ Drug - 1, data = df_island)\n",
       "\n",
       "Residuals:\n",
       "    Min      1Q  Median      3Q     Max \n",
       "-40.229  -4.835   0.529   5.088  39.530 \n",
       "\n",
       "Coefficients:\n",
       "      Estimate Std. Error t value Pr(>|t|)    \n",
       "DrugA   9.4701     1.1893   7.963 1.36e-13 ***\n",
       "DrugS  -0.1712     1.1983  -0.143    0.887    \n",
       "DrugT  -0.5877     1.2075  -0.487    0.627    \n",
       "---\n",
       "Signif. codes:  0 ‘***’ 0.001 ‘**’ 0.01 ‘*’ 0.05 ‘.’ 0.1 ‘ ’ 1\n",
       "\n",
       "Residual standard error: 9.735 on 195 degrees of freedom\n",
       "Multiple R-squared:  0.2461,\tAdjusted R-squared:  0.2345 \n",
       "F-statistic: 21.22 on 3 and 195 DF,  p-value: 6.138e-12\n"
      ]
     },
     "metadata": {},
     "output_type": "display_data"
    }
   ],
   "source": [
    "df_island <- read_csv(\"Islander_data.csv\")\n",
    "summary(lm(Diff ~ Drug, data = df_island))\n",
    "summary(lm(Diff ~ Drug - 1 , data = df_island))"
   ]
  },
  {
   "cell_type": "code",
   "execution_count": 15,
   "id": "ac3bc720-b871-4adb-8461-104e93996cb8",
   "metadata": {},
   "outputs": [
    {
     "name": "stderr",
     "output_type": "stream",
     "text": [
      "\u001b[1mRows: \u001b[22m\u001b[34m20\u001b[39m \u001b[1mColumns: \u001b[22m\u001b[34m4\u001b[39m\n",
      "\u001b[36m──\u001b[39m \u001b[1mColumn specification\u001b[22m \u001b[36m───────────────────────────────────────────────────────────────────────────────────────────────────────────────\u001b[39m\n",
      "\u001b[1mDelimiter:\u001b[22m \",\"\n",
      "\u001b[32mdbl\u001b[39m (4): Case, X1, X2, Y\n",
      "\n",
      "\u001b[36mℹ\u001b[39m Use `spec()` to retrieve the full column specification for this data.\n",
      "\u001b[36mℹ\u001b[39m Specify the column types or set `show_col_types = FALSE` to quiet this message.\n"
     ]
    },
    {
     "data": {
      "text/html": [
       "<table class=\"dataframe\">\n",
       "<caption>A tibble: 6 × 4</caption>\n",
       "<thead>\n",
       "\t<tr><th scope=col>Case</th><th scope=col>X1</th><th scope=col>X2</th><th scope=col>Y</th></tr>\n",
       "\t<tr><th scope=col>&lt;dbl&gt;</th><th scope=col>&lt;dbl&gt;</th><th scope=col>&lt;dbl&gt;</th><th scope=col>&lt;dbl&gt;</th></tr>\n",
       "</thead>\n",
       "<tbody>\n",
       "\t<tr><td>1</td><td> 7</td><td> 5.11</td><td> 58</td></tr>\n",
       "\t<tr><td>2</td><td>18</td><td>16.72</td><td>152</td></tr>\n",
       "\t<tr><td>3</td><td> 5</td><td> 3.20</td><td> 41</td></tr>\n",
       "\t<tr><td>4</td><td>14</td><td> 7.03</td><td> 93</td></tr>\n",
       "\t<tr><td>5</td><td>11</td><td>10.98</td><td>101</td></tr>\n",
       "\t<tr><td>6</td><td> 5</td><td> 4.04</td><td> 38</td></tr>\n",
       "</tbody>\n",
       "</table>\n"
      ],
      "text/latex": [
       "A tibble: 6 × 4\n",
       "\\begin{tabular}{llll}\n",
       " Case & X1 & X2 & Y\\\\\n",
       " <dbl> & <dbl> & <dbl> & <dbl>\\\\\n",
       "\\hline\n",
       "\t 1 &  7 &  5.11 &  58\\\\\n",
       "\t 2 & 18 & 16.72 & 152\\\\\n",
       "\t 3 &  5 &  3.20 &  41\\\\\n",
       "\t 4 & 14 &  7.03 &  93\\\\\n",
       "\t 5 & 11 & 10.98 & 101\\\\\n",
       "\t 6 &  5 &  4.04 &  38\\\\\n",
       "\\end{tabular}\n"
      ],
      "text/markdown": [
       "\n",
       "A tibble: 6 × 4\n",
       "\n",
       "| Case &lt;dbl&gt; | X1 &lt;dbl&gt; | X2 &lt;dbl&gt; | Y &lt;dbl&gt; |\n",
       "|---|---|---|---|\n",
       "| 1 |  7 |  5.11 |  58 |\n",
       "| 2 | 18 | 16.72 | 152 |\n",
       "| 3 |  5 |  3.20 |  41 |\n",
       "| 4 | 14 |  7.03 |  93 |\n",
       "| 5 | 11 | 10.98 | 101 |\n",
       "| 6 |  5 |  4.04 |  38 |\n",
       "\n"
      ],
      "text/plain": [
       "  Case X1 X2    Y  \n",
       "1 1     7  5.11  58\n",
       "2 2    18 16.72 152\n",
       "3 3     5  3.20  41\n",
       "4 4    14  7.03  93\n",
       "5 5    11 10.98 101\n",
       "6 6     5  4.04  38"
      ]
     },
     "metadata": {},
     "output_type": "display_data"
    },
    {
     "data": {
      "text/plain": [
       "\n",
       "Call:\n",
       "lm(formula = Y ~ X1 + X2, data = df_chemship)\n",
       "\n",
       "Residuals:\n",
       "    Min      1Q  Median      3Q     Max \n",
       "-8.8353 -3.5591 -0.0533  2.4018 15.1515 \n",
       "\n",
       "Coefficients:\n",
       "            Estimate Std. Error t value Pr(>|t|)    \n",
       "(Intercept)   3.3243     3.1108   1.069      0.3    \n",
       "X1            3.7681     0.6142   6.135 1.10e-05 ***\n",
       "X2            5.0796     0.6655   7.632 6.89e-07 ***\n",
       "---\n",
       "Signif. codes:  0 ‘***’ 0.001 ‘**’ 0.01 ‘*’ 0.05 ‘.’ 0.1 ‘ ’ 1\n",
       "\n",
       "Residual standard error: 5.618 on 17 degrees of freedom\n",
       "Multiple R-squared:  0.9869,\tAdjusted R-squared:  0.9854 \n",
       "F-statistic: 641.6 on 2 and 17 DF,  p-value: < 2.2e-16\n"
      ]
     },
     "metadata": {},
     "output_type": "display_data"
    }
   ],
   "source": [
    "df_chemship <- read_csv(\"chemship.csv\")\n",
    "df_chemship %>% head()\n",
    "lmodel <- lm(Y ~ X1 + X2, data = df_chemship)\n",
    "summary(lmodel)"
   ]
  },
  {
   "cell_type": "code",
   "execution_count": 23,
   "id": "8871c593-3257-4153-a9ec-abaa521f2b8f",
   "metadata": {},
   "outputs": [],
   "source": [
    "X <- as.matrix(cbind(\"Inter\" = rep(1, nrow(df_chemship)), df_chemship[c(\"X1\", \"X2\")]))"
   ]
  },
  {
   "cell_type": "code",
   "execution_count": 24,
   "id": "b8a081d6-5afe-4ae3-8201-9e29b0e70881",
   "metadata": {},
   "outputs": [
    {
     "data": {
      "text/html": [
       "<table class=\"dataframe\">\n",
       "<caption>A matrix: 6 × 3 of type dbl</caption>\n",
       "<thead>\n",
       "\t<tr><th scope=col>Inter</th><th scope=col>X1</th><th scope=col>X2</th></tr>\n",
       "</thead>\n",
       "<tbody>\n",
       "\t<tr><td>1</td><td> 7</td><td> 5.11</td></tr>\n",
       "\t<tr><td>1</td><td>18</td><td>16.72</td></tr>\n",
       "\t<tr><td>1</td><td> 5</td><td> 3.20</td></tr>\n",
       "\t<tr><td>1</td><td>14</td><td> 7.03</td></tr>\n",
       "\t<tr><td>1</td><td>11</td><td>10.98</td></tr>\n",
       "\t<tr><td>1</td><td> 5</td><td> 4.04</td></tr>\n",
       "</tbody>\n",
       "</table>\n"
      ],
      "text/latex": [
       "A matrix: 6 × 3 of type dbl\n",
       "\\begin{tabular}{lll}\n",
       " Inter & X1 & X2\\\\\n",
       "\\hline\n",
       "\t 1 &  7 &  5.11\\\\\n",
       "\t 1 & 18 & 16.72\\\\\n",
       "\t 1 &  5 &  3.20\\\\\n",
       "\t 1 & 14 &  7.03\\\\\n",
       "\t 1 & 11 & 10.98\\\\\n",
       "\t 1 &  5 &  4.04\\\\\n",
       "\\end{tabular}\n"
      ],
      "text/markdown": [
       "\n",
       "A matrix: 6 × 3 of type dbl\n",
       "\n",
       "| Inter | X1 | X2 |\n",
       "|---|---|---|\n",
       "| 1 |  7 |  5.11 |\n",
       "| 1 | 18 | 16.72 |\n",
       "| 1 |  5 |  3.20 |\n",
       "| 1 | 14 |  7.03 |\n",
       "| 1 | 11 | 10.98 |\n",
       "| 1 |  5 |  4.04 |\n",
       "\n"
      ],
      "text/plain": [
       "     Inter X1 X2   \n",
       "[1,] 1      7  5.11\n",
       "[2,] 1     18 16.72\n",
       "[3,] 1      5  3.20\n",
       "[4,] 1     14  7.03\n",
       "[5,] 1     11 10.98\n",
       "[6,] 1      5  4.04"
      ]
     },
     "metadata": {},
     "output_type": "display_data"
    }
   ],
   "source": [
    "X %>% head()"
   ]
  },
  {
   "cell_type": "code",
   "execution_count": 39,
   "id": "87e100f2-a546-46ae-8e71-0cd3cacbd1e1",
   "metadata": {},
   "outputs": [
    {
     "data": {
      "text/html": [
       "<table class=\"dataframe\">\n",
       "<caption>A matrix: 3 × 3 of type dbl</caption>\n",
       "<thead>\n",
       "\t<tr><th></th><th scope=col>Inter</th><th scope=col>X1</th><th scope=col>X2</th></tr>\n",
       "</thead>\n",
       "<tbody>\n",
       "\t<tr><th scope=row>Inter</th><td> 9.6788378</td><td>-1.0400325</td><td> 0.4692324</td></tr>\n",
       "\t<tr><th scope=row>X1</th><td>-1.0400325</td><td> 0.3773435</td><td>-0.3786606</td></tr>\n",
       "\t<tr><th scope=row>X2</th><td> 0.4692324</td><td>-0.3786606</td><td> 0.4430233</td></tr>\n",
       "</tbody>\n",
       "</table>\n"
      ],
      "text/latex": [
       "A matrix: 3 × 3 of type dbl\n",
       "\\begin{tabular}{r|lll}\n",
       "  & Inter & X1 & X2\\\\\n",
       "\\hline\n",
       "\tInter &  9.6788378 & -1.0400325 &  0.4692324\\\\\n",
       "\tX1 & -1.0400325 &  0.3773435 & -0.3786606\\\\\n",
       "\tX2 &  0.4692324 & -0.3786606 &  0.4430233\\\\\n",
       "\\end{tabular}\n"
      ],
      "text/markdown": [
       "\n",
       "A matrix: 3 × 3 of type dbl\n",
       "\n",
       "| <!--/--> | Inter | X1 | X2 |\n",
       "|---|---|---|---|\n",
       "| Inter |  9.6788378 | -1.0400325 |  0.4692324 |\n",
       "| X1 | -1.0400325 |  0.3773435 | -0.3786606 |\n",
       "| X2 |  0.4692324 | -0.3786606 |  0.4430233 |\n",
       "\n"
      ],
      "text/plain": [
       "      Inter      X1         X2        \n",
       "Inter  9.6788378 -1.0400325  0.4692324\n",
       "X1    -1.0400325  0.3773435 -0.3786606\n",
       "X2     0.4692324 -0.3786606  0.4430233"
      ]
     },
     "metadata": {},
     "output_type": "display_data"
    }
   ],
   "source": [
    "sigma <- solve(t(X)%*%X)*5.618^2\n",
    "sigma"
   ]
  },
  {
   "cell_type": "code",
   "execution_count": 30,
   "id": "95303604-6907-4503-bc86-6cdae6d819ee",
   "metadata": {},
   "outputs": [
    {
     "data": {
      "text/html": [
       "<table class=\"dataframe\">\n",
       "<caption>A matrix: 3 × 3 of type dbl</caption>\n",
       "<thead>\n",
       "\t<tr><th></th><th scope=col>Inter</th><th scope=col>X1</th><th scope=col>X2</th></tr>\n",
       "</thead>\n",
       "<tbody>\n",
       "\t<tr><th scope=row>Inter</th><td> 20.00</td><td> 238.00</td><td> 182.240</td></tr>\n",
       "\t<tr><th scope=row>X1</th><td>238.00</td><td>3420.00</td><td>2671.060</td></tr>\n",
       "\t<tr><th scope=row>X2</th><td>182.24</td><td>2671.06</td><td>2161.227</td></tr>\n",
       "</tbody>\n",
       "</table>\n"
      ],
      "text/latex": [
       "A matrix: 3 × 3 of type dbl\n",
       "\\begin{tabular}{r|lll}\n",
       "  & Inter & X1 & X2\\\\\n",
       "\\hline\n",
       "\tInter &  20.00 &  238.00 &  182.240\\\\\n",
       "\tX1 & 238.00 & 3420.00 & 2671.060\\\\\n",
       "\tX2 & 182.24 & 2671.06 & 2161.227\\\\\n",
       "\\end{tabular}\n"
      ],
      "text/markdown": [
       "\n",
       "A matrix: 3 × 3 of type dbl\n",
       "\n",
       "| <!--/--> | Inter | X1 | X2 |\n",
       "|---|---|---|---|\n",
       "| Inter |  20.00 |  238.00 |  182.240 |\n",
       "| X1 | 238.00 | 3420.00 | 2671.060 |\n",
       "| X2 | 182.24 | 2671.06 | 2161.227 |\n",
       "\n"
      ],
      "text/plain": [
       "      Inter  X1      X2      \n",
       "Inter  20.00  238.00  182.240\n",
       "X1    238.00 3420.00 2671.060\n",
       "X2    182.24 2671.06 2161.227"
      ]
     },
     "metadata": {},
     "output_type": "display_data"
    }
   ],
   "source": [
    "t(X)%*%X"
   ]
  },
  {
   "cell_type": "code",
   "execution_count": 46,
   "id": "a7df9f3f-74dd-4d25-b401-2866c7676bc2",
   "metadata": {},
   "outputs": [],
   "source": [
    "X_0 = as.matrix(c(1,10,5))"
   ]
  },
  {
   "cell_type": "code",
   "execution_count": 50,
   "id": "8361fc58-993c-4297-aaec-2b2920c30869",
   "metadata": {},
   "outputs": [
    {
     "data": {
      "text/html": [
       "<table class=\"dataframe\">\n",
       "<caption>A matrix: 1 × 1 of type dbl</caption>\n",
       "<tbody>\n",
       "\t<tr><td>2.124709</td></tr>\n",
       "</tbody>\n",
       "</table>\n"
      ],
      "text/latex": [
       "A matrix: 1 × 1 of type dbl\n",
       "\\begin{tabular}{l}\n",
       "\t 2.124709\\\\\n",
       "\\end{tabular}\n"
      ],
      "text/markdown": [
       "\n",
       "A matrix: 1 × 1 of type dbl\n",
       "\n",
       "| 2.124709 |\n",
       "\n"
      ],
      "text/plain": [
       "     [,1]    \n",
       "[1,] 2.124709"
      ]
     },
     "metadata": {},
     "output_type": "display_data"
    }
   ],
   "source": [
    "sqrt(t(X_0)%*%sigma%*%X_0)"
   ]
  },
  {
   "cell_type": "code",
   "execution_count": 51,
   "id": "fdfc81bf-6f74-4c77-bed1-5a4a65719582",
   "metadata": {},
   "outputs": [
    {
     "data": {
      "text/html": [
       "<table class=\"dataframe\">\n",
       "<caption>A matrix: 3 × 1 of type dbl</caption>\n",
       "<tbody>\n",
       "\t<tr><th scope=row>Inter</th><td> 1.6246744</td></tr>\n",
       "\t<tr><th scope=row>X1</th><td> 0.8400996</td></tr>\n",
       "\t<tr><th scope=row>X2</th><td>-1.1022568</td></tr>\n",
       "</tbody>\n",
       "</table>\n"
      ],
      "text/latex": [
       "A matrix: 3 × 1 of type dbl\n",
       "\\begin{tabular}{r|l}\n",
       "\tInter &  1.6246744\\\\\n",
       "\tX1 &  0.8400996\\\\\n",
       "\tX2 & -1.1022568\\\\\n",
       "\\end{tabular}\n"
      ],
      "text/markdown": [
       "\n",
       "A matrix: 3 × 1 of type dbl\n",
       "\n",
       "| Inter |  1.6246744 |\n",
       "| X1 |  0.8400996 |\n",
       "| X2 | -1.1022568 |\n",
       "\n"
      ],
      "text/plain": [
       "      [,1]      \n",
       "Inter  1.6246744\n",
       "X1     0.8400996\n",
       "X2    -1.1022568"
      ]
     },
     "metadata": {},
     "output_type": "display_data"
    }
   ],
   "source": [
    "sigma%*%X_0"
   ]
  },
  {
   "cell_type": "code",
   "execution_count": 54,
   "id": "12629835-fdcb-473f-8139-ba232812fbb8",
   "metadata": {},
   "outputs": [
    {
     "data": {
      "text/html": [
       "2.10092204024104"
      ],
      "text/latex": [
       "2.10092204024104"
      ],
      "text/markdown": [
       "2.10092204024104"
      ],
      "text/plain": [
       "[1] 2.100922"
      ]
     },
     "metadata": {},
     "output_type": "display_data"
    }
   ],
   "source": [
    "qt(0.975, 18)"
   ]
  },
  {
   "cell_type": "code",
   "execution_count": 55,
   "id": "b7826502-7ad4-498a-b5da-58059f94fe9b",
   "metadata": {},
   "outputs": [
    {
     "data": {
      "text/html": [
       "4.51438679045933"
      ],
      "text/latex": [
       "4.51438679045933"
      ],
      "text/markdown": [
       "4.51438679045933"
      ],
      "text/plain": [
       "[1] 4.514387"
      ]
     },
     "metadata": {},
     "output_type": "display_data"
    }
   ],
   "source": [
    "error = as.numeric(t(X_0)%*%sigma%*%X_0)\n",
    "error"
   ]
  },
  {
   "cell_type": "code",
   "execution_count": 56,
   "id": "bf02ccf9-2aa9-4d76-a093-23bec4d4fb2f",
   "metadata": {},
   "outputs": [
    {
     "data": {
      "text/html": [
       "4.46384720373168"
      ],
      "text/latex": [
       "4.46384720373168"
      ],
      "text/markdown": [
       "4.46384720373168"
      ],
      "text/plain": [
       "[1] 4.463847"
      ]
     },
     "metadata": {},
     "output_type": "display_data"
    }
   ],
   "source": [
    "qt(0.975, 18)*sqrt(error)"
   ]
  },
  {
   "cell_type": "code",
   "execution_count": 67,
   "id": "50811ce2-9d7e-42a3-9de2-0672663245c3",
   "metadata": {},
   "outputs": [],
   "source": [
    "pred_value <- as.numeric(predict(lmodel, newdata = as.list(c(\"Case\" = 21, \"X1\" = 10, \"X2\" = 5, \"Y\" = 0))))"
   ]
  },
  {
   "cell_type": "code",
   "execution_count": 70,
   "id": "4e623c27-5f6e-4ac7-adde-07f08ac5cf82",
   "metadata": {},
   "outputs": [
    {
     "data": {
      "text/html": [
       "<style>\n",
       ".list-inline {list-style: none; margin:0; padding: 0}\n",
       ".list-inline>li {display: inline-block}\n",
       ".list-inline>li:not(:last-child)::after {content: \"\\00b7\"; padding: 0 .5ex}\n",
       "</style>\n",
       "<ol class=list-inline><li>61.9205849832512</li><li>70.8860717429792</li></ol>\n"
      ],
      "text/latex": [
       "\\begin{enumerate*}\n",
       "\\item 61.9205849832512\n",
       "\\item 70.8860717429792\n",
       "\\end{enumerate*}\n"
      ],
      "text/markdown": [
       "1. 61.9205849832512\n",
       "2. 70.8860717429792\n",
       "\n",
       "\n"
      ],
      "text/plain": [
       "[1] 61.92058 70.88607"
      ]
     },
     "metadata": {},
     "output_type": "display_data"
    }
   ],
   "source": [
    "pred_value + c(-1, 1) * qt(0.975, 17) * sqrt(error)"
   ]
  },
  {
   "cell_type": "code",
   "execution_count": 78,
   "id": "f902f86e-50fa-45c7-bd77-589ef8de8f08",
   "metadata": {},
   "outputs": [
    {
     "data": {
      "text/html": [
       "<style>\n",
       ".list-inline {list-style: none; margin:0; padding: 0}\n",
       ".list-inline>li {display: inline-block}\n",
       ".list-inline>li:not(:last-child)::after {content: \"\\00b7\"; padding: 0 .5ex}\n",
       "</style>\n",
       "<ol class=list-inline><li>53.7318978670443</li><li>79.0747588591861</li></ol>\n"
      ],
      "text/latex": [
       "\\begin{enumerate*}\n",
       "\\item 53.7318978670443\n",
       "\\item 79.0747588591861\n",
       "\\end{enumerate*}\n"
      ],
      "text/markdown": [
       "1. 53.7318978670443\n",
       "2. 79.0747588591861\n",
       "\n",
       "\n"
      ],
      "text/plain": [
       "[1] 53.73190 79.07476"
      ]
     },
     "metadata": {},
     "output_type": "display_data"
    }
   ],
   "source": [
    "pred_value + c(-1, 1) * qt(0.975, 17) * sqrt(error + summary(lmodel)$sigma^2)"
   ]
  },
  {
   "cell_type": "code",
   "execution_count": 74,
   "id": "fe0957da-872f-48d2-9f58-14f6af2d39cd",
   "metadata": {},
   "outputs": [
    {
     "data": {
      "text/html": [
       "<table class=\"dataframe\">\n",
       "<caption>A matrix: 1 × 3 of type dbl</caption>\n",
       "<thead>\n",
       "\t<tr><th></th><th scope=col>fit</th><th scope=col>lwr</th><th scope=col>upr</th></tr>\n",
       "</thead>\n",
       "<tbody>\n",
       "\t<tr><th scope=row>1</th><td>66.40333</td><td>61.92094</td><td>70.88572</td></tr>\n",
       "</tbody>\n",
       "</table>\n"
      ],
      "text/latex": [
       "A matrix: 1 × 3 of type dbl\n",
       "\\begin{tabular}{r|lll}\n",
       "  & fit & lwr & upr\\\\\n",
       "\\hline\n",
       "\t1 & 66.40333 & 61.92094 & 70.88572\\\\\n",
       "\\end{tabular}\n"
      ],
      "text/markdown": [
       "\n",
       "A matrix: 1 × 3 of type dbl\n",
       "\n",
       "| <!--/--> | fit | lwr | upr |\n",
       "|---|---|---|---|\n",
       "| 1 | 66.40333 | 61.92094 | 70.88572 |\n",
       "\n"
      ],
      "text/plain": [
       "  fit      lwr      upr     \n",
       "1 66.40333 61.92094 70.88572"
      ]
     },
     "metadata": {},
     "output_type": "display_data"
    },
    {
     "data": {
      "text/html": [
       "<table class=\"dataframe\">\n",
       "<caption>A matrix: 1 × 3 of type dbl</caption>\n",
       "<thead>\n",
       "\t<tr><th></th><th scope=col>fit</th><th scope=col>lwr</th><th scope=col>upr</th></tr>\n",
       "</thead>\n",
       "<tbody>\n",
       "\t<tr><th scope=row>1</th><td>66.40333</td><td>53.73202</td><td>79.07463</td></tr>\n",
       "</tbody>\n",
       "</table>\n"
      ],
      "text/latex": [
       "A matrix: 1 × 3 of type dbl\n",
       "\\begin{tabular}{r|lll}\n",
       "  & fit & lwr & upr\\\\\n",
       "\\hline\n",
       "\t1 & 66.40333 & 53.73202 & 79.07463\\\\\n",
       "\\end{tabular}\n"
      ],
      "text/markdown": [
       "\n",
       "A matrix: 1 × 3 of type dbl\n",
       "\n",
       "| <!--/--> | fit | lwr | upr |\n",
       "|---|---|---|---|\n",
       "| 1 | 66.40333 | 53.73202 | 79.07463 |\n",
       "\n"
      ],
      "text/plain": [
       "  fit      lwr      upr     \n",
       "1 66.40333 53.73202 79.07463"
      ]
     },
     "metadata": {},
     "output_type": "display_data"
    }
   ],
   "source": [
    "predict(lmodel, newdata = as.list(c(\"Case\" = 21, \"X1\" = 10, \"X2\" = 5, \"Y\" = 0)), interval = \"confidence\")\n",
    "predict(lmodel, newdata = as.list(c(\"Case\" = 21, \"X1\" = 10, \"X2\" = 5, \"Y\" = 0)), interval = \"prediction\")"
   ]
  },
  {
   "cell_type": "code",
   "execution_count": 76,
   "id": "b3a0134d-caf1-4d96-a59c-922c34435383",
   "metadata": {},
   "outputs": [
    {
     "data": {
      "text/html": [
       "<style>\n",
       ".list-inline {list-style: none; margin:0; padding: 0}\n",
       ".list-inline>li {display: inline-block}\n",
       ".list-inline>li:not(:last-child)::after {content: \"\\00b7\"; padding: 0 .5ex}\n",
       "</style>\n",
       "<ol class=list-inline><li>'call'</li><li>'terms'</li><li>'residuals'</li><li>'coefficients'</li><li>'aliased'</li><li>'sigma'</li><li>'df'</li><li>'r.squared'</li><li>'adj.r.squared'</li><li>'fstatistic'</li><li>'cov.unscaled'</li></ol>\n"
      ],
      "text/latex": [
       "\\begin{enumerate*}\n",
       "\\item 'call'\n",
       "\\item 'terms'\n",
       "\\item 'residuals'\n",
       "\\item 'coefficients'\n",
       "\\item 'aliased'\n",
       "\\item 'sigma'\n",
       "\\item 'df'\n",
       "\\item 'r.squared'\n",
       "\\item 'adj.r.squared'\n",
       "\\item 'fstatistic'\n",
       "\\item 'cov.unscaled'\n",
       "\\end{enumerate*}\n"
      ],
      "text/markdown": [
       "1. 'call'\n",
       "2. 'terms'\n",
       "3. 'residuals'\n",
       "4. 'coefficients'\n",
       "5. 'aliased'\n",
       "6. 'sigma'\n",
       "7. 'df'\n",
       "8. 'r.squared'\n",
       "9. 'adj.r.squared'\n",
       "10. 'fstatistic'\n",
       "11. 'cov.unscaled'\n",
       "\n",
       "\n"
      ],
      "text/plain": [
       " [1] \"call\"          \"terms\"         \"residuals\"     \"coefficients\" \n",
       " [5] \"aliased\"       \"sigma\"         \"df\"            \"r.squared\"    \n",
       " [9] \"adj.r.squared\" \"fstatistic\"    \"cov.unscaled\" "
      ]
     },
     "metadata": {},
     "output_type": "display_data"
    }
   ],
   "source": [
    "names(summary(lmodel))"
   ]
  },
  {
   "cell_type": "code",
   "execution_count": 77,
   "id": "c023307b-b440-4050-bd6e-41192b2bbb42",
   "metadata": {},
   "outputs": [
    {
     "data": {
      "text/html": [
       "5.61755777820856"
      ],
      "text/latex": [
       "5.61755777820856"
      ],
      "text/markdown": [
       "5.61755777820856"
      ],
      "text/plain": [
       "[1] 5.617558"
      ]
     },
     "metadata": {},
     "output_type": "display_data"
    }
   ],
   "source": [
    "summary(lmodel)$sigma"
   ]
  },
  {
   "cell_type": "code",
   "execution_count": null,
   "id": "163e167c-489f-421d-866a-1f1919c84f06",
   "metadata": {},
   "outputs": [],
   "source": []
  }
 ],
 "metadata": {
  "kernelspec": {
   "display_name": "R",
   "language": "R",
   "name": "ir"
  },
  "language_info": {
   "codemirror_mode": "r",
   "file_extension": ".r",
   "mimetype": "text/x-r-source",
   "name": "R",
   "pygments_lexer": "r",
   "version": "4.1.3"
  }
 },
 "nbformat": 4,
 "nbformat_minor": 5
}

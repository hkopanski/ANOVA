{
 "cells": [
  {
   "cell_type": "code",
   "execution_count": 1,
   "id": "c182054b-5ccb-46c2-8c1a-91625924220a",
   "metadata": {},
   "outputs": [
    {
     "name": "stderr",
     "output_type": "stream",
     "text": [
      "── \u001b[1mAttaching packages\u001b[22m ─────────────────────────────────────── tidyverse 1.3.1 ──\n",
      "\n",
      "\u001b[32m✔\u001b[39m \u001b[34mggplot2\u001b[39m 3.3.6     \u001b[32m✔\u001b[39m \u001b[34mpurrr  \u001b[39m 0.3.4\n",
      "\u001b[32m✔\u001b[39m \u001b[34mtibble \u001b[39m 3.1.7     \u001b[32m✔\u001b[39m \u001b[34mdplyr  \u001b[39m 1.0.9\n",
      "\u001b[32m✔\u001b[39m \u001b[34mtidyr  \u001b[39m 1.2.0     \u001b[32m✔\u001b[39m \u001b[34mstringr\u001b[39m 1.4.0\n",
      "\u001b[32m✔\u001b[39m \u001b[34mreadr  \u001b[39m 2.1.2     \u001b[32m✔\u001b[39m \u001b[34mforcats\u001b[39m 0.5.1\n",
      "\n",
      "── \u001b[1mConflicts\u001b[22m ────────────────────────────────────────── tidyverse_conflicts() ──\n",
      "\u001b[31m✖\u001b[39m \u001b[34mdplyr\u001b[39m::\u001b[32mfilter()\u001b[39m masks \u001b[34mstats\u001b[39m::filter()\n",
      "\u001b[31m✖\u001b[39m \u001b[34mdplyr\u001b[39m::\u001b[32mlag()\u001b[39m    masks \u001b[34mstats\u001b[39m::lag()\n",
      "\n"
     ]
    }
   ],
   "source": [
    "library(tidyverse)"
   ]
  },
  {
   "cell_type": "code",
   "execution_count": 2,
   "id": "d7dc40d0-516d-4285-a60a-597a5684c58e",
   "metadata": {},
   "outputs": [
    {
     "name": "stderr",
     "output_type": "stream",
     "text": [
      "\u001b[1mRows: \u001b[22m\u001b[34m198\u001b[39m \u001b[1mColumns: \u001b[22m\u001b[34m9\u001b[39m\n",
      "\u001b[36m──\u001b[39m \u001b[1mColumn specification\u001b[22m \u001b[36m────────────────────────────────────────────────────────\u001b[39m\n",
      "\u001b[1mDelimiter:\u001b[22m \",\"\n",
      "\u001b[31mchr\u001b[39m (4): first_name, last_name, Happy_Sad_group, Drug\n",
      "\u001b[32mdbl\u001b[39m (5): age, Dosage, Mem_Score_Before, Mem_Score_After, Diff\n",
      "\n",
      "\u001b[36mℹ\u001b[39m Use `spec()` to retrieve the full column specification for this data.\n",
      "\u001b[36mℹ\u001b[39m Specify the column types or set `show_col_types = FALSE` to quiet this message.\n"
     ]
    }
   ],
   "source": [
    "df_island <- read_csv(\"Islander_data.csv\")"
   ]
  },
  {
   "cell_type": "code",
   "execution_count": 3,
   "id": "52590985-1239-4b46-9dda-1472db30e136",
   "metadata": {},
   "outputs": [
    {
     "data": {
      "text/html": [
       "<table class=\"dataframe\">\n",
       "<caption>A tibble: 6 × 9</caption>\n",
       "<thead>\n",
       "\t<tr><th scope=col>first_name</th><th scope=col>last_name</th><th scope=col>age</th><th scope=col>Happy_Sad_group</th><th scope=col>Dosage</th><th scope=col>Drug</th><th scope=col>Mem_Score_Before</th><th scope=col>Mem_Score_After</th><th scope=col>Diff</th></tr>\n",
       "\t<tr><th scope=col>&lt;chr&gt;</th><th scope=col>&lt;chr&gt;</th><th scope=col>&lt;dbl&gt;</th><th scope=col>&lt;chr&gt;</th><th scope=col>&lt;dbl&gt;</th><th scope=col>&lt;chr&gt;</th><th scope=col>&lt;dbl&gt;</th><th scope=col>&lt;dbl&gt;</th><th scope=col>&lt;dbl&gt;</th></tr>\n",
       "</thead>\n",
       "<tbody>\n",
       "\t<tr><td>Bastian  </td><td>Carrasco</td><td>25</td><td>H</td><td>1</td><td>A</td><td>63.5</td><td>61.2</td><td>-2.3</td></tr>\n",
       "\t<tr><td>Evan     </td><td>Carrasco</td><td>52</td><td>S</td><td>1</td><td>A</td><td>41.6</td><td>40.7</td><td>-0.9</td></tr>\n",
       "\t<tr><td>Florencia</td><td>Carrasco</td><td>29</td><td>H</td><td>1</td><td>A</td><td>59.7</td><td>55.1</td><td>-4.6</td></tr>\n",
       "\t<tr><td>Holly    </td><td>Carrasco</td><td>50</td><td>S</td><td>1</td><td>A</td><td>51.7</td><td>51.2</td><td>-0.5</td></tr>\n",
       "\t<tr><td>Justin   </td><td>Carrasco</td><td>52</td><td>H</td><td>1</td><td>A</td><td>47.0</td><td>47.1</td><td> 0.1</td></tr>\n",
       "\t<tr><td>Liam     </td><td>Carrasco</td><td>37</td><td>S</td><td>1</td><td>A</td><td>66.4</td><td>58.1</td><td>-8.3</td></tr>\n",
       "</tbody>\n",
       "</table>\n"
      ],
      "text/latex": [
       "A tibble: 6 × 9\n",
       "\\begin{tabular}{lllllllll}\n",
       " first\\_name & last\\_name & age & Happy\\_Sad\\_group & Dosage & Drug & Mem\\_Score\\_Before & Mem\\_Score\\_After & Diff\\\\\n",
       " <chr> & <chr> & <dbl> & <chr> & <dbl> & <chr> & <dbl> & <dbl> & <dbl>\\\\\n",
       "\\hline\n",
       "\t Bastian   & Carrasco & 25 & H & 1 & A & 63.5 & 61.2 & -2.3\\\\\n",
       "\t Evan      & Carrasco & 52 & S & 1 & A & 41.6 & 40.7 & -0.9\\\\\n",
       "\t Florencia & Carrasco & 29 & H & 1 & A & 59.7 & 55.1 & -4.6\\\\\n",
       "\t Holly     & Carrasco & 50 & S & 1 & A & 51.7 & 51.2 & -0.5\\\\\n",
       "\t Justin    & Carrasco & 52 & H & 1 & A & 47.0 & 47.1 &  0.1\\\\\n",
       "\t Liam      & Carrasco & 37 & S & 1 & A & 66.4 & 58.1 & -8.3\\\\\n",
       "\\end{tabular}\n"
      ],
      "text/markdown": [
       "\n",
       "A tibble: 6 × 9\n",
       "\n",
       "| first_name &lt;chr&gt; | last_name &lt;chr&gt; | age &lt;dbl&gt; | Happy_Sad_group &lt;chr&gt; | Dosage &lt;dbl&gt; | Drug &lt;chr&gt; | Mem_Score_Before &lt;dbl&gt; | Mem_Score_After &lt;dbl&gt; | Diff &lt;dbl&gt; |\n",
       "|---|---|---|---|---|---|---|---|---|\n",
       "| Bastian   | Carrasco | 25 | H | 1 | A | 63.5 | 61.2 | -2.3 |\n",
       "| Evan      | Carrasco | 52 | S | 1 | A | 41.6 | 40.7 | -0.9 |\n",
       "| Florencia | Carrasco | 29 | H | 1 | A | 59.7 | 55.1 | -4.6 |\n",
       "| Holly     | Carrasco | 50 | S | 1 | A | 51.7 | 51.2 | -0.5 |\n",
       "| Justin    | Carrasco | 52 | H | 1 | A | 47.0 | 47.1 |  0.1 |\n",
       "| Liam      | Carrasco | 37 | S | 1 | A | 66.4 | 58.1 | -8.3 |\n",
       "\n"
      ],
      "text/plain": [
       "  first_name last_name age Happy_Sad_group Dosage Drug Mem_Score_Before\n",
       "1 Bastian    Carrasco  25  H               1      A    63.5            \n",
       "2 Evan       Carrasco  52  S               1      A    41.6            \n",
       "3 Florencia  Carrasco  29  H               1      A    59.7            \n",
       "4 Holly      Carrasco  50  S               1      A    51.7            \n",
       "5 Justin     Carrasco  52  H               1      A    47.0            \n",
       "6 Liam       Carrasco  37  S               1      A    66.4            \n",
       "  Mem_Score_After Diff\n",
       "1 61.2            -2.3\n",
       "2 40.7            -0.9\n",
       "3 55.1            -4.6\n",
       "4 51.2            -0.5\n",
       "5 47.1             0.1\n",
       "6 58.1            -8.3"
      ]
     },
     "metadata": {},
     "output_type": "display_data"
    }
   ],
   "source": [
    "df_island %>% head()"
   ]
  },
  {
   "cell_type": "code",
   "execution_count": 4,
   "id": "bb3ead2f-9d83-411b-8fd8-4e3d975f6780",
   "metadata": {},
   "outputs": [],
   "source": [
    "island_model <- lm(Diff ~ as.factor(Drug), data = df_island) "
   ]
  },
  {
   "cell_type": "code",
   "execution_count": 6,
   "id": "92320065-3688-41c4-85e9-4b4996cc74a5",
   "metadata": {},
   "outputs": [
    {
     "data": {
      "text/plain": [
       "                 Df Sum Sq Mean Sq F value   Pr(>F)    \n",
       "as.factor(Drug)   2   4305  2152.4   22.71 1.36e-09 ***\n",
       "Residuals       195  18481    94.8                     \n",
       "---\n",
       "Signif. codes:  0 ‘***’ 0.001 ‘**’ 0.01 ‘*’ 0.05 ‘.’ 0.1 ‘ ’ 1"
      ]
     },
     "metadata": {},
     "output_type": "display_data"
    }
   ],
   "source": [
    "summary(aov(island_model))"
   ]
  },
  {
   "cell_type": "code",
   "execution_count": 26,
   "id": "8f3a328e-60fb-441a-92cd-8abf7858c447",
   "metadata": {},
   "outputs": [],
   "source": [
    "overall_mean <- mean(df_island$Diff)\n",
    "df_summary <- df_island %>% group_by(Drug) %>% summarise(\"Mean(Diff)\" = mean(Diff), \"Mean(Age)\" = mean(age), \"SSE\" = sum((Diff - mean(Diff))^2), n = n(), \"SSTreat\" = (mean(Diff) - overall_mean)^2)"
   ]
  },
  {
   "cell_type": "code",
   "execution_count": 29,
   "id": "321ed3bf-b765-4aa2-8a90-630438ff6db0",
   "metadata": {},
   "outputs": [],
   "source": [
    "df_summary <- df_summary %>% mutate(\"SSTreat*n\" = SSTreat * n)"
   ]
  },
  {
   "cell_type": "code",
   "execution_count": 31,
   "id": "881a312e-617d-4e8a-bb62-2d70bcdf6a72",
   "metadata": {},
   "outputs": [
    {
     "data": {
      "text/html": [
       "22785.3109090909"
      ],
      "text/latex": [
       "22785.3109090909"
      ],
      "text/markdown": [
       "22785.3109090909"
      ],
      "text/plain": [
       "[1] 22785.31"
      ]
     },
     "metadata": {},
     "output_type": "display_data"
    }
   ],
   "source": [
    "df_summary %>% select(SSE, \"SSTreat*n\") %>% sum()"
   ]
  },
  {
   "cell_type": "code",
   "execution_count": 32,
   "id": "fbfd83d5-04d1-47d1-9b5d-2d7a32d2c86b",
   "metadata": {},
   "outputs": [
    {
     "data": {
      "text/html": [
       "<table class=\"dataframe\">\n",
       "<caption>A tibble: 3 × 7</caption>\n",
       "<thead>\n",
       "\t<tr><th scope=col>Drug</th><th scope=col>Mean(Diff)</th><th scope=col>Mean(Age)</th><th scope=col>SSE</th><th scope=col>n</th><th scope=col>SSTreat</th><th scope=col>SSTreat*n</th></tr>\n",
       "\t<tr><th scope=col>&lt;chr&gt;</th><th scope=col>&lt;dbl&gt;</th><th scope=col>&lt;dbl&gt;</th><th scope=col>&lt;dbl&gt;</th><th scope=col>&lt;int&gt;</th><th scope=col>&lt;dbl&gt;</th><th scope=col>&lt;dbl&gt;</th></tr>\n",
       "</thead>\n",
       "<tbody>\n",
       "\t<tr><td>A</td><td> 9.4701493</td><td>40.10448</td><td>11594.000</td><td>67</td><td>42.45309</td><td>2844.3572</td></tr>\n",
       "\t<tr><td>S</td><td>-0.1712121</td><td>37.42424</td><td> 3656.175</td><td>66</td><td> 9.77036</td><td> 644.8438</td></tr>\n",
       "\t<tr><td>T</td><td>-0.5876923</td><td>41.07692</td><td> 3230.350</td><td>65</td><td>12.54745</td><td> 815.5841</td></tr>\n",
       "</tbody>\n",
       "</table>\n"
      ],
      "text/latex": [
       "A tibble: 3 × 7\n",
       "\\begin{tabular}{lllllll}\n",
       " Drug & Mean(Diff) & Mean(Age) & SSE & n & SSTreat & SSTreat*n\\\\\n",
       " <chr> & <dbl> & <dbl> & <dbl> & <int> & <dbl> & <dbl>\\\\\n",
       "\\hline\n",
       "\t A &  9.4701493 & 40.10448 & 11594.000 & 67 & 42.45309 & 2844.3572\\\\\n",
       "\t S & -0.1712121 & 37.42424 &  3656.175 & 66 &  9.77036 &  644.8438\\\\\n",
       "\t T & -0.5876923 & 41.07692 &  3230.350 & 65 & 12.54745 &  815.5841\\\\\n",
       "\\end{tabular}\n"
      ],
      "text/markdown": [
       "\n",
       "A tibble: 3 × 7\n",
       "\n",
       "| Drug &lt;chr&gt; | Mean(Diff) &lt;dbl&gt; | Mean(Age) &lt;dbl&gt; | SSE &lt;dbl&gt; | n &lt;int&gt; | SSTreat &lt;dbl&gt; | SSTreat*n &lt;dbl&gt; |\n",
       "|---|---|---|---|---|---|---|\n",
       "| A |  9.4701493 | 40.10448 | 11594.000 | 67 | 42.45309 | 2844.3572 |\n",
       "| S | -0.1712121 | 37.42424 |  3656.175 | 66 |  9.77036 |  644.8438 |\n",
       "| T | -0.5876923 | 41.07692 |  3230.350 | 65 | 12.54745 |  815.5841 |\n",
       "\n"
      ],
      "text/plain": [
       "  Drug Mean(Diff) Mean(Age) SSE       n  SSTreat  SSTreat*n\n",
       "1 A     9.4701493 40.10448  11594.000 67 42.45309 2844.3572\n",
       "2 S    -0.1712121 37.42424   3656.175 66  9.77036  644.8438\n",
       "3 T    -0.5876923 41.07692   3230.350 65 12.54745  815.5841"
      ]
     },
     "metadata": {},
     "output_type": "display_data"
    }
   ],
   "source": [
    "df_summary"
   ]
  },
  {
   "cell_type": "code",
   "execution_count": 25,
   "id": "dd8a2568-ac72-40cf-8043-5e465ff9e186",
   "metadata": {},
   "outputs": [
    {
     "data": {
      "text/html": [
       "2.95454545454545"
      ],
      "text/latex": [
       "2.95454545454545"
      ],
      "text/markdown": [
       "2.95454545454545"
      ],
      "text/plain": [
       "[1] 2.954545"
      ]
     },
     "metadata": {},
     "output_type": "display_data"
    }
   ],
   "source": [
    "mean(df_island$Diff)"
   ]
  },
  {
   "cell_type": "code",
   "execution_count": 33,
   "id": "90b0c768-26d4-4382-8260-1fcfadbdaecf",
   "metadata": {},
   "outputs": [
    {
     "data": {
      "image/png": "[encoded data removed]",
      "text/plain": [
       "plot without title"
      ]
     },
     "metadata": {
      "image/png": {
       "height": 420,
       "width": 420
      }
     },
     "output_type": "display_data"
    }
   ],
   "source": [
    "ggplot(data = df_island, aes( y = Diff, x = Drug)) + geom_boxplot()"
   ]
  },
  {
   "cell_type": "code",
   "execution_count": 37,
   "id": "1fc7ebe3-80dc-4e58-ba69-0a509b6a54ec",
   "metadata": {},
   "outputs": [
    {
     "data": {
      "image/png": "[encoded data removed]",
      "text/plain": [
       "plot without title"
      ]
     },
     "metadata": {
      "image/png": {
       "height": 420,
       "width": 420
      }
     },
     "output_type": "display_data"
    }
   ],
   "source": [
    "boxplot(Diff ~ Drug, data = df_island)"
   ]
  },
  {
   "cell_type": "code",
   "execution_count": null,
   "id": "545e86fa-b5ec-48fa-8dc7-13ba9fe28728",
   "metadata": {},
   "outputs": [],
   "source": []
  }
 ],
 "metadata": {
  "kernelspec": {
   "display_name": "R",
   "language": "R",
   "name": "ir"
  },
  "language_info": {
   "codemirror_mode": "r",
   "file_extension": ".r",
   "mimetype": "text/x-r-source",
   "name": "R",
   "pygments_lexer": "r",
   "version": "4.1.3"
  }
 },
 "nbformat": 4,
 "nbformat_minor": 5
}

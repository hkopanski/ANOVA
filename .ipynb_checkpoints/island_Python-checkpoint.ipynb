{
 "cells": [
  {
   "cell_type": "code",
   "execution_count": 61,
   "id": "76d16210-2dba-4933-971e-373dea7b6104",
   "metadata": {},
   "outputs": [],
   "source": [
    "import pandas as pd\n",
    "import numpy as np\n",
    "import matplotlib.pyplot as plt\n",
    "import seaborn as sns\n",
    "from scipy.stats import f\n",
    "import statsmodels.api as sm\n",
    "from statsmodels.formula.api import ols\n",
    "from sklearn.linear_model import LinearRegression"
   ]
  },
  {
   "cell_type": "code",
   "execution_count": 51,
   "id": "8f75301a-a746-4082-952b-d8fd9bfb6b8d",
   "metadata": {},
   "outputs": [],
   "source": [
    "df_islander = pd.read_csv(\"Islander_data.csv\")"
   ]
  },
  {
   "cell_type": "code",
   "execution_count": 3,
   "id": "c4e65322-1c6f-4f79-a8f8-f6e0f6c233a0",
   "metadata": {},
   "outputs": [
    {
     "data": {
      "text/html": [
       "<div>\n",
       "<style scoped>\n",
       "    .dataframe tbody tr th:only-of-type {\n",
       "        vertical-align: middle;\n",
       "    }\n",
       "\n",
       "    .dataframe tbody tr th {\n",
       "        vertical-align: top;\n",
       "    }\n",
       "\n",
       "    .dataframe thead th {\n",
       "        text-align: right;\n",
       "    }\n",
       "</style>\n",
       "<table border=\"1\" class=\"dataframe\">\n",
       "  <thead>\n",
       "    <tr style=\"text-align: right;\">\n",
       "      <th></th>\n",
       "      <th>first_name</th>\n",
       "      <th>last_name</th>\n",
       "      <th>age</th>\n",
       "      <th>Happy_Sad_group</th>\n",
       "      <th>Dosage</th>\n",
       "      <th>Drug</th>\n",
       "      <th>Mem_Score_Before</th>\n",
       "      <th>Mem_Score_After</th>\n",
       "      <th>Diff</th>\n",
       "    </tr>\n",
       "  </thead>\n",
       "  <tbody>\n",
       "    <tr>\n",
       "      <th>0</th>\n",
       "      <td>Bastian</td>\n",
       "      <td>Carrasco</td>\n",
       "      <td>25</td>\n",
       "      <td>H</td>\n",
       "      <td>1</td>\n",
       "      <td>A</td>\n",
       "      <td>63.5</td>\n",
       "      <td>61.2</td>\n",
       "      <td>-2.3</td>\n",
       "    </tr>\n",
       "    <tr>\n",
       "      <th>1</th>\n",
       "      <td>Evan</td>\n",
       "      <td>Carrasco</td>\n",
       "      <td>52</td>\n",
       "      <td>S</td>\n",
       "      <td>1</td>\n",
       "      <td>A</td>\n",
       "      <td>41.6</td>\n",
       "      <td>40.7</td>\n",
       "      <td>-0.9</td>\n",
       "    </tr>\n",
       "    <tr>\n",
       "      <th>2</th>\n",
       "      <td>Florencia</td>\n",
       "      <td>Carrasco</td>\n",
       "      <td>29</td>\n",
       "      <td>H</td>\n",
       "      <td>1</td>\n",
       "      <td>A</td>\n",
       "      <td>59.7</td>\n",
       "      <td>55.1</td>\n",
       "      <td>-4.6</td>\n",
       "    </tr>\n",
       "    <tr>\n",
       "      <th>3</th>\n",
       "      <td>Holly</td>\n",
       "      <td>Carrasco</td>\n",
       "      <td>50</td>\n",
       "      <td>S</td>\n",
       "      <td>1</td>\n",
       "      <td>A</td>\n",
       "      <td>51.7</td>\n",
       "      <td>51.2</td>\n",
       "      <td>-0.5</td>\n",
       "    </tr>\n",
       "    <tr>\n",
       "      <th>4</th>\n",
       "      <td>Justin</td>\n",
       "      <td>Carrasco</td>\n",
       "      <td>52</td>\n",
       "      <td>H</td>\n",
       "      <td>1</td>\n",
       "      <td>A</td>\n",
       "      <td>47.0</td>\n",
       "      <td>47.1</td>\n",
       "      <td>0.1</td>\n",
       "    </tr>\n",
       "  </tbody>\n",
       "</table>\n",
       "</div>"
      ],
      "text/plain": [
       "  first_name last_name  age Happy_Sad_group  Dosage Drug  Mem_Score_Before  \\\n",
       "0    Bastian  Carrasco   25               H       1    A              63.5   \n",
       "1       Evan  Carrasco   52               S       1    A              41.6   \n",
       "2  Florencia  Carrasco   29               H       1    A              59.7   \n",
       "3      Holly  Carrasco   50               S       1    A              51.7   \n",
       "4     Justin  Carrasco   52               H       1    A              47.0   \n",
       "\n",
       "   Mem_Score_After  Diff  \n",
       "0             61.2  -2.3  \n",
       "1             40.7  -0.9  \n",
       "2             55.1  -4.6  \n",
       "3             51.2  -0.5  \n",
       "4             47.1   0.1  "
      ]
     },
     "execution_count": 3,
     "metadata": {},
     "output_type": "execute_result"
    }
   ],
   "source": [
    "df_islander.head()"
   ]
  },
  {
   "cell_type": "code",
   "execution_count": 4,
   "id": "92b1bfd0-3c57-48e6-a284-715f68f14289",
   "metadata": {},
   "outputs": [],
   "source": [
    "A_mean = df_islander[df_islander[\"Drug\"] == \"A\"][\"Diff\"].mean()\n",
    "S_mean = df_islander[df_islander[\"Drug\"] == \"S\"][\"Diff\"].mean()\n",
    "T_mean = df_islander[df_islander[\"Drug\"] == \"T\"][\"Diff\"].mean()\n",
    "overall_mean = df_islander[\"Diff\"].mean()"
   ]
  },
  {
   "cell_type": "code",
   "execution_count": 5,
   "id": "bb7af588-b099-4c59-b7b1-67c374176873",
   "metadata": {},
   "outputs": [
    {
     "data": {
      "text/plain": [
       "3"
      ]
     },
     "execution_count": 5,
     "metadata": {},
     "output_type": "execute_result"
    }
   ],
   "source": [
    "len(df_islander[\"Drug\"].unique())"
   ]
  },
  {
   "cell_type": "code",
   "execution_count": 6,
   "id": "60f25389-333c-44dd-b286-f283443f5b3c",
   "metadata": {},
   "outputs": [],
   "source": [
    "SSTotal = np.sum((df_islander[\"Diff\"] - overall_mean)**2)\n",
    "SSTreat = df_islander[df_islander[\"Drug\"] == \"T\"][\"Diff\"].count() * (T_mean - overall_mean)**2 + df_islander[df_islander[\"Drug\"] == \"A\"][\"Diff\"].count() * (A_mean - overall_mean)**2 + df_islander[df_islander[\"Drug\"] == \"S\"][\"Diff\"].count() * (S_mean - overall_mean)**2\n",
    "SSError = np.sum((df_islander[df_islander[\"Drug\"] == \"T\"][\"Diff\"] - T_mean)**2) + np.sum((df_islander[df_islander[\"Drug\"] == \"A\"][\"Diff\"] - A_mean)**2) + np.sum((df_islander[df_islander[\"Drug\"] == \"S\"][\"Diff\"] - S_mean)**2)"
   ]
  },
  {
   "cell_type": "code",
   "execution_count": 7,
   "id": "186d8531-5068-4ba1-ba75-c0154053ca6e",
   "metadata": {},
   "outputs": [],
   "source": [
    "SS = np.array([SSTreat, SSError, SSTotal])\n",
    "DF = np.array([len(df_islander[\"Drug\"].unique()) - 1, df_islander.shape[0] - len(df_islander[\"Drug\"].unique()), df_islander.shape[0] - 1])"
   ]
  },
  {
   "cell_type": "code",
   "execution_count": 8,
   "id": "15e450ae-9275-4eae-af68-4f326dddd75c",
   "metadata": {},
   "outputs": [
    {
     "data": {
      "text/plain": [
       "18480.525755383926"
      ]
     },
     "execution_count": 8,
     "metadata": {},
     "output_type": "execute_result"
    }
   ],
   "source": [
    "SSTotal - SSTreat"
   ]
  },
  {
   "cell_type": "code",
   "execution_count": 9,
   "id": "4e8f820f-00f4-4396-b43d-b8e2b1b10ac6",
   "metadata": {},
   "outputs": [
    {
     "name": "stdout",
     "output_type": "stream",
     "text": [
      "[array([ 4304.78515371, 18480.52575538, 22785.31090909]), array([  2, 195, 197])]\n"
     ]
    }
   ],
   "source": [
    "print([SS, DF])"
   ]
  },
  {
   "cell_type": "code",
   "execution_count": 10,
   "id": "4260ca8e-6751-49a6-b690-6f8b619d1b4b",
   "metadata": {},
   "outputs": [],
   "source": [
    "MS = SS/DF"
   ]
  },
  {
   "cell_type": "code",
   "execution_count": 11,
   "id": "5e467d36-e2d6-48e7-bf72-55f04c11f598",
   "metadata": {},
   "outputs": [],
   "source": [
    "F = MS[0]/MS[1]"
   ]
  },
  {
   "cell_type": "code",
   "execution_count": 12,
   "id": "f23761ce-04e9-4d10-b711-e8125fcf5dd8",
   "metadata": {},
   "outputs": [
    {
     "data": {
      "text/plain": [
       "22.711288522955336"
      ]
     },
     "execution_count": 12,
     "metadata": {},
     "output_type": "execute_result"
    }
   ],
   "source": [
    "F"
   ]
  },
  {
   "cell_type": "code",
   "execution_count": 13,
   "id": "9c44e9c4-f6b9-4ef9-a1c7-4fba3a00692c",
   "metadata": {},
   "outputs": [],
   "source": [
    "P_value = 1 - f.cdf(F, DF[0], DF[1])"
   ]
  },
  {
   "cell_type": "code",
   "execution_count": 14,
   "id": "967aacb8-98eb-47bc-913d-8d4b6e3086f1",
   "metadata": {},
   "outputs": [
    {
     "data": {
      "text/plain": [
       "1.3592142966700749e-09"
      ]
     },
     "execution_count": 14,
     "metadata": {},
     "output_type": "execute_result"
    }
   ],
   "source": [
    "P_value"
   ]
  },
  {
   "cell_type": "code",
   "execution_count": 15,
   "id": "9e934b31-1474-4890-b75a-ea4b60875d70",
   "metadata": {},
   "outputs": [
    {
     "data": {
      "text/plain": [
       "array([[4.30478515e+03, 2.00000000e+00, 2.15239258e+03, 2.27112885e+01],\n",
       "       [1.84805258e+04, 1.95000000e+02, 9.47719270e+01, 0.00000000e+00],\n",
       "       [2.27853109e+04, 1.97000000e+02, 1.15661477e+02, 0.00000000e+00]])"
      ]
     },
     "execution_count": 15,
     "metadata": {},
     "output_type": "execute_result"
    }
   ],
   "source": [
    "np.column_stack([SS, DF, MS, [F, 0, 0]])"
   ]
  },
  {
   "cell_type": "code",
   "execution_count": 18,
   "id": "02412b36-67c4-4105-8df7-d1948435ae79",
   "metadata": {},
   "outputs": [
    {
     "data": {
      "text/plain": [
       "<AxesSubplot:xlabel='Drug', ylabel='Diff'>"
      ]
     },
     "execution_count": 18,
     "metadata": {},
     "output_type": "execute_result"
    },
    {
     "data": {
      "image/png": "[encoded data removed]",
      "text/plain": [
       "<Figure size 750x750 with 1 Axes>"
      ]
     },
     "metadata": {
      "needs_background": "light"
     },
     "output_type": "display_data"
    }
   ],
   "source": [
    "fig, ax = plt.subplots(figsize = (5,5), dpi = 150)\n",
    "sns.boxplot(data=df_islander, x=\"Drug\", y=\"Diff\")"
   ]
  },
  {
   "cell_type": "code",
   "execution_count": 24,
   "id": "74d8c9da-4cb4-4817-a383-696ae8fe0090",
   "metadata": {},
   "outputs": [
    {
     "data": {
      "text/plain": [
       "<AxesSubplot:title={'center':'Diff'}, xlabel='Drug'>"
      ]
     },
     "execution_count": 24,
     "metadata": {},
     "output_type": "execute_result"
    },
    {
     "data": {
      "image/png": "[encoded data removed]",
      "text/plain": [
       "<Figure size 1080x720 with 1 Axes>"
      ]
     },
     "metadata": {
      "needs_background": "light"
     },
     "output_type": "display_data"
    }
   ],
   "source": [
    "\n",
    "df_islander.boxplot(by = \"Drug\", column = [\"Diff\"], figsize=(15, 10)) "
   ]
  },
  {
   "cell_type": "code",
   "execution_count": 27,
   "id": "e1bab1b3-0eef-4f6a-9679-08d997de7d4a",
   "metadata": {},
   "outputs": [
    {
     "data": {
      "image/png": "[encoded data removed]",
      "text/plain": [
       "<Figure size 900x600 with 1 Axes>"
      ]
     },
     "metadata": {
      "needs_background": "light"
     },
     "output_type": "display_data"
    }
   ],
   "source": [
    "fig, ax = plt.subplots(dpi = 150)\n",
    "\n",
    "sm.qqplot(df_islander[\"Diff\"], ax = ax)\n",
    "plt.show()"
   ]
  },
  {
   "cell_type": "code",
   "execution_count": 58,
   "id": "4845e871-5bad-4452-b1d4-bc0011efd45b",
   "metadata": {},
   "outputs": [
    {
     "data": {
      "text/html": [
       "<style>#sk-container-id-2 {color: black;background-color: white;}#sk-container-id-2 pre{padding: 0;}#sk-container-id-2 div.sk-toggleable {background-color: white;}#sk-container-id-2 label.sk-toggleable__label {cursor: pointer;display: block;width: 100%;margin-bottom: 0;padding: 0.3em;box-sizing: border-box;text-align: center;}#sk-container-id-2 label.sk-toggleable__label-arrow:before {content: \"▸\";float: left;margin-right: 0.25em;color: #696969;}#sk-container-id-2 label.sk-toggleable__label-arrow:hover:before {color: black;}#sk-container-id-2 div.sk-estimator:hover label.sk-toggleable__label-arrow:before {color: black;}#sk-container-id-2 div.sk-toggleable__content {max-height: 0;max-width: 0;overflow: hidden;text-align: left;background-color: #f0f8ff;}#sk-container-id-2 div.sk-toggleable__content pre {margin: 0.2em;color: black;border-radius: 0.25em;background-color: #f0f8ff;}#sk-container-id-2 input.sk-toggleable__control:checked~div.sk-toggleable__content {max-height: 200px;max-width: 100%;overflow: auto;}#sk-container-id-2 input.sk-toggleable__control:checked~label.sk-toggleable__label-arrow:before {content: \"▾\";}#sk-container-id-2 div.sk-estimator input.sk-toggleable__control:checked~label.sk-toggleable__label {background-color: #d4ebff;}#sk-container-id-2 div.sk-label input.sk-toggleable__control:checked~label.sk-toggleable__label {background-color: #d4ebff;}#sk-container-id-2 input.sk-hidden--visually {border: 0;clip: rect(1px 1px 1px 1px);clip: rect(1px, 1px, 1px, 1px);height: 1px;margin: -1px;overflow: hidden;padding: 0;position: absolute;width: 1px;}#sk-container-id-2 div.sk-estimator {font-family: monospace;background-color: #f0f8ff;border: 1px dotted black;border-radius: 0.25em;box-sizing: border-box;margin-bottom: 0.5em;}#sk-container-id-2 div.sk-estimator:hover {background-color: #d4ebff;}#sk-container-id-2 div.sk-parallel-item::after {content: \"\";width: 100%;border-bottom: 1px solid gray;flex-grow: 1;}#sk-container-id-2 div.sk-label:hover label.sk-toggleable__label {background-color: #d4ebff;}#sk-container-id-2 div.sk-serial::before {content: \"\";position: absolute;border-left: 1px solid gray;box-sizing: border-box;top: 0;bottom: 0;left: 50%;z-index: 0;}#sk-container-id-2 div.sk-serial {display: flex;flex-direction: column;align-items: center;background-color: white;padding-right: 0.2em;padding-left: 0.2em;position: relative;}#sk-container-id-2 div.sk-item {position: relative;z-index: 1;}#sk-container-id-2 div.sk-parallel {display: flex;align-items: stretch;justify-content: center;background-color: white;position: relative;}#sk-container-id-2 div.sk-item::before, #sk-container-id-2 div.sk-parallel-item::before {content: \"\";position: absolute;border-left: 1px solid gray;box-sizing: border-box;top: 0;bottom: 0;left: 50%;z-index: -1;}#sk-container-id-2 div.sk-parallel-item {display: flex;flex-direction: column;z-index: 1;position: relative;background-color: white;}#sk-container-id-2 div.sk-parallel-item:first-child::after {align-self: flex-end;width: 50%;}#sk-container-id-2 div.sk-parallel-item:last-child::after {align-self: flex-start;width: 50%;}#sk-container-id-2 div.sk-parallel-item:only-child::after {width: 0;}#sk-container-id-2 div.sk-dashed-wrapped {border: 1px dashed gray;margin: 0 0.4em 0.5em 0.4em;box-sizing: border-box;padding-bottom: 0.4em;background-color: white;}#sk-container-id-2 div.sk-label label {font-family: monospace;font-weight: bold;display: inline-block;line-height: 1.2em;}#sk-container-id-2 div.sk-label-container {text-align: center;}#sk-container-id-2 div.sk-container {/* jupyter's `normalize.less` sets `[hidden] { display: none; }` but bootstrap.min.css set `[hidden] { display: none !important; }` so we also need the `!important` here to be able to override the default hidden behavior on the sphinx rendered scikit-learn.org. See: https://github.com/scikit-learn/scikit-learn/issues/21755 */display: inline-block !important;position: relative;}#sk-container-id-2 div.sk-text-repr-fallback {display: none;}</style><div id=\"sk-container-id-2\" class=\"sk-top-container\"><div class=\"sk-text-repr-fallback\"><pre>LinearRegression()</pre><b>In a Jupyter environment, please rerun this cell to show the HTML representation or trust the notebook. <br />On GitHub, the HTML representation is unable to render, please try loading this page with nbviewer.org.</b></div><div class=\"sk-container\" hidden><div class=\"sk-item\"><div class=\"sk-estimator sk-toggleable\"><input class=\"sk-toggleable__control sk-hidden--visually\" id=\"sk-estimator-id-2\" type=\"checkbox\" checked><label for=\"sk-estimator-id-2\" class=\"sk-toggleable__label sk-toggleable__label-arrow\">LinearRegression</label><div class=\"sk-toggleable__content\"><pre>LinearRegression()</pre></div></div></div></div></div>"
      ],
      "text/plain": [
       "LinearRegression()"
      ]
     },
     "execution_count": 58,
     "metadata": {},
     "output_type": "execute_result"
    }
   ],
   "source": [
    "island_model = LinearRegression()\n",
    "drug_dummies = pd.get_dummies(df_islander[\"Drug\"])\n",
    "df_islander = df_islander.join(drug_dummies)\n",
    "island_model.fit(df_islander.loc[:,[\"A\", \"T\", \"S\"]], df_islander.loc[:,\"Diff\"])"
   ]
  },
  {
   "cell_type": "code",
   "execution_count": 59,
   "id": "76db863a-3433-4535-89e8-c07bda219ee4",
   "metadata": {},
   "outputs": [
    {
     "data": {
      "text/plain": [
       "array([1.30857839e+15, 1.30857839e+15, 1.30857839e+15])"
      ]
     },
     "execution_count": 59,
     "metadata": {},
     "output_type": "execute_result"
    }
   ],
   "source": [
    "island_model.coef_"
   ]
  },
  {
   "cell_type": "code",
   "execution_count": 60,
   "id": "172e85df-6a02-4aaa-a69d-765a0bc1522e",
   "metadata": {},
   "outputs": [
    {
     "data": {
      "text/html": [
       "<div>\n",
       "<style scoped>\n",
       "    .dataframe tbody tr th:only-of-type {\n",
       "        vertical-align: middle;\n",
       "    }\n",
       "\n",
       "    .dataframe tbody tr th {\n",
       "        vertical-align: top;\n",
       "    }\n",
       "\n",
       "    .dataframe thead th {\n",
       "        text-align: right;\n",
       "    }\n",
       "</style>\n",
       "<table border=\"1\" class=\"dataframe\">\n",
       "  <thead>\n",
       "    <tr style=\"text-align: right;\">\n",
       "      <th></th>\n",
       "      <th>first_name</th>\n",
       "      <th>last_name</th>\n",
       "      <th>age</th>\n",
       "      <th>Happy_Sad_group</th>\n",
       "      <th>Dosage</th>\n",
       "      <th>Drug</th>\n",
       "      <th>Mem_Score_Before</th>\n",
       "      <th>Mem_Score_After</th>\n",
       "      <th>Diff</th>\n",
       "      <th>A</th>\n",
       "      <th>S</th>\n",
       "      <th>T</th>\n",
       "    </tr>\n",
       "  </thead>\n",
       "  <tbody>\n",
       "    <tr>\n",
       "      <th>0</th>\n",
       "      <td>Bastian</td>\n",
       "      <td>Carrasco</td>\n",
       "      <td>25</td>\n",
       "      <td>H</td>\n",
       "      <td>1</td>\n",
       "      <td>A</td>\n",
       "      <td>63.5</td>\n",
       "      <td>61.2</td>\n",
       "      <td>-2.3</td>\n",
       "      <td>1</td>\n",
       "      <td>0</td>\n",
       "      <td>0</td>\n",
       "    </tr>\n",
       "    <tr>\n",
       "      <th>1</th>\n",
       "      <td>Evan</td>\n",
       "      <td>Carrasco</td>\n",
       "      <td>52</td>\n",
       "      <td>S</td>\n",
       "      <td>1</td>\n",
       "      <td>A</td>\n",
       "      <td>41.6</td>\n",
       "      <td>40.7</td>\n",
       "      <td>-0.9</td>\n",
       "      <td>1</td>\n",
       "      <td>0</td>\n",
       "      <td>0</td>\n",
       "    </tr>\n",
       "    <tr>\n",
       "      <th>2</th>\n",
       "      <td>Florencia</td>\n",
       "      <td>Carrasco</td>\n",
       "      <td>29</td>\n",
       "      <td>H</td>\n",
       "      <td>1</td>\n",
       "      <td>A</td>\n",
       "      <td>59.7</td>\n",
       "      <td>55.1</td>\n",
       "      <td>-4.6</td>\n",
       "      <td>1</td>\n",
       "      <td>0</td>\n",
       "      <td>0</td>\n",
       "    </tr>\n",
       "    <tr>\n",
       "      <th>3</th>\n",
       "      <td>Holly</td>\n",
       "      <td>Carrasco</td>\n",
       "      <td>50</td>\n",
       "      <td>S</td>\n",
       "      <td>1</td>\n",
       "      <td>A</td>\n",
       "      <td>51.7</td>\n",
       "      <td>51.2</td>\n",
       "      <td>-0.5</td>\n",
       "      <td>1</td>\n",
       "      <td>0</td>\n",
       "      <td>0</td>\n",
       "    </tr>\n",
       "    <tr>\n",
       "      <th>4</th>\n",
       "      <td>Justin</td>\n",
       "      <td>Carrasco</td>\n",
       "      <td>52</td>\n",
       "      <td>H</td>\n",
       "      <td>1</td>\n",
       "      <td>A</td>\n",
       "      <td>47.0</td>\n",
       "      <td>47.1</td>\n",
       "      <td>0.1</td>\n",
       "      <td>1</td>\n",
       "      <td>0</td>\n",
       "      <td>0</td>\n",
       "    </tr>\n",
       "    <tr>\n",
       "      <th>...</th>\n",
       "      <td>...</td>\n",
       "      <td>...</td>\n",
       "      <td>...</td>\n",
       "      <td>...</td>\n",
       "      <td>...</td>\n",
       "      <td>...</td>\n",
       "      <td>...</td>\n",
       "      <td>...</td>\n",
       "      <td>...</td>\n",
       "      <td>...</td>\n",
       "      <td>...</td>\n",
       "      <td>...</td>\n",
       "    </tr>\n",
       "    <tr>\n",
       "      <th>193</th>\n",
       "      <td>Jacob</td>\n",
       "      <td>Novak</td>\n",
       "      <td>52</td>\n",
       "      <td>H</td>\n",
       "      <td>3</td>\n",
       "      <td>T</td>\n",
       "      <td>71.3</td>\n",
       "      <td>74.3</td>\n",
       "      <td>3.0</td>\n",
       "      <td>0</td>\n",
       "      <td>0</td>\n",
       "      <td>1</td>\n",
       "    </tr>\n",
       "    <tr>\n",
       "      <th>194</th>\n",
       "      <td>Teo</td>\n",
       "      <td>Steiner</td>\n",
       "      <td>41</td>\n",
       "      <td>S</td>\n",
       "      <td>3</td>\n",
       "      <td>T</td>\n",
       "      <td>72.5</td>\n",
       "      <td>70.4</td>\n",
       "      <td>-2.1</td>\n",
       "      <td>0</td>\n",
       "      <td>0</td>\n",
       "      <td>1</td>\n",
       "    </tr>\n",
       "    <tr>\n",
       "      <th>195</th>\n",
       "      <td>Alexander</td>\n",
       "      <td>Takahashi</td>\n",
       "      <td>54</td>\n",
       "      <td>S</td>\n",
       "      <td>3</td>\n",
       "      <td>T</td>\n",
       "      <td>30.8</td>\n",
       "      <td>33.1</td>\n",
       "      <td>2.3</td>\n",
       "      <td>0</td>\n",
       "      <td>0</td>\n",
       "      <td>1</td>\n",
       "    </tr>\n",
       "    <tr>\n",
       "      <th>196</th>\n",
       "      <td>Alexandere</td>\n",
       "      <td>Takahashi</td>\n",
       "      <td>40</td>\n",
       "      <td>H</td>\n",
       "      <td>3</td>\n",
       "      <td>T</td>\n",
       "      <td>53.6</td>\n",
       "      <td>53.8</td>\n",
       "      <td>0.2</td>\n",
       "      <td>0</td>\n",
       "      <td>0</td>\n",
       "      <td>1</td>\n",
       "    </tr>\n",
       "    <tr>\n",
       "      <th>197</th>\n",
       "      <td>Chloe</td>\n",
       "      <td>Takahashi</td>\n",
       "      <td>32</td>\n",
       "      <td>S</td>\n",
       "      <td>3</td>\n",
       "      <td>T</td>\n",
       "      <td>43.1</td>\n",
       "      <td>42.1</td>\n",
       "      <td>-1.0</td>\n",
       "      <td>0</td>\n",
       "      <td>0</td>\n",
       "      <td>1</td>\n",
       "    </tr>\n",
       "  </tbody>\n",
       "</table>\n",
       "<p>198 rows × 12 columns</p>\n",
       "</div>"
      ],
      "text/plain": [
       "     first_name  last_name  age Happy_Sad_group  Dosage Drug  \\\n",
       "0       Bastian   Carrasco   25               H       1    A   \n",
       "1          Evan   Carrasco   52               S       1    A   \n",
       "2     Florencia   Carrasco   29               H       1    A   \n",
       "3         Holly   Carrasco   50               S       1    A   \n",
       "4        Justin   Carrasco   52               H       1    A   \n",
       "..          ...        ...  ...             ...     ...  ...   \n",
       "193       Jacob      Novak   52               H       3    T   \n",
       "194         Teo    Steiner   41               S       3    T   \n",
       "195   Alexander  Takahashi   54               S       3    T   \n",
       "196  Alexandere  Takahashi   40               H       3    T   \n",
       "197       Chloe  Takahashi   32               S       3    T   \n",
       "\n",
       "     Mem_Score_Before  Mem_Score_After  Diff  A  S  T  \n",
       "0                63.5             61.2  -2.3  1  0  0  \n",
       "1                41.6             40.7  -0.9  1  0  0  \n",
       "2                59.7             55.1  -4.6  1  0  0  \n",
       "3                51.7             51.2  -0.5  1  0  0  \n",
       "4                47.0             47.1   0.1  1  0  0  \n",
       "..                ...              ...   ... .. .. ..  \n",
       "193              71.3             74.3   3.0  0  0  1  \n",
       "194              72.5             70.4  -2.1  0  0  1  \n",
       "195              30.8             33.1   2.3  0  0  1  \n",
       "196              53.6             53.8   0.2  0  0  1  \n",
       "197              43.1             42.1  -1.0  0  0  1  \n",
       "\n",
       "[198 rows x 12 columns]"
      ]
     },
     "execution_count": 60,
     "metadata": {},
     "output_type": "execute_result"
    }
   ],
   "source": [
    "df_islander"
   ]
  },
  {
   "cell_type": "code",
   "execution_count": 63,
   "id": "91165940-1ebe-4666-9c5c-35e9f5fe044d",
   "metadata": {},
   "outputs": [],
   "source": [
    "island_lm = ols('Diff ~ C(Drug, Sum)', data = df_islander).fit()"
   ]
  },
  {
   "cell_type": "code",
   "execution_count": 65,
   "id": "cdb12645-c626-465f-9ded-63846260fa7e",
   "metadata": {},
   "outputs": [
    {
     "data": {
      "text/html": [
       "<div>\n",
       "<style scoped>\n",
       "    .dataframe tbody tr th:only-of-type {\n",
       "        vertical-align: middle;\n",
       "    }\n",
       "\n",
       "    .dataframe tbody tr th {\n",
       "        vertical-align: top;\n",
       "    }\n",
       "\n",
       "    .dataframe thead th {\n",
       "        text-align: right;\n",
       "    }\n",
       "</style>\n",
       "<table border=\"1\" class=\"dataframe\">\n",
       "  <thead>\n",
       "    <tr style=\"text-align: right;\">\n",
       "      <th></th>\n",
       "      <th>sum_sq</th>\n",
       "      <th>df</th>\n",
       "      <th>F</th>\n",
       "      <th>PR(&gt;F)</th>\n",
       "    </tr>\n",
       "  </thead>\n",
       "  <tbody>\n",
       "    <tr>\n",
       "      <th>C(Drug, Sum)</th>\n",
       "      <td>4304.785154</td>\n",
       "      <td>2.0</td>\n",
       "      <td>22.711289</td>\n",
       "      <td>1.359214e-09</td>\n",
       "    </tr>\n",
       "    <tr>\n",
       "      <th>Residual</th>\n",
       "      <td>18480.525755</td>\n",
       "      <td>195.0</td>\n",
       "      <td>NaN</td>\n",
       "      <td>NaN</td>\n",
       "    </tr>\n",
       "  </tbody>\n",
       "</table>\n",
       "</div>"
      ],
      "text/plain": [
       "                    sum_sq     df          F        PR(>F)\n",
       "C(Drug, Sum)   4304.785154    2.0  22.711289  1.359214e-09\n",
       "Residual      18480.525755  195.0        NaN           NaN"
      ]
     },
     "execution_count": 65,
     "metadata": {},
     "output_type": "execute_result"
    }
   ],
   "source": [
    "sm.stats.anova_lm(island_lm, typ=2)"
   ]
  },
  {
   "cell_type": "code",
   "execution_count": 68,
   "id": "699af21e-71f6-4ba1-9c58-c419bb03d2bf",
   "metadata": {},
   "outputs": [
    {
     "name": "stdout",
     "output_type": "stream",
     "text": [
      "                            OLS Regression Results                            \n",
      "==============================================================================\n",
      "Dep. Variable:                   Diff   R-squared:                       0.189\n",
      "Model:                            OLS   Adj. R-squared:                  0.181\n",
      "Method:                 Least Squares   F-statistic:                     22.71\n",
      "Date:                Thu, 15 Sep 2022   Prob (F-statistic):           1.36e-09\n",
      "Time:                        14:01:14   Log-Likelihood:                -730.03\n",
      "No. Observations:                 198   AIC:                             1466.\n",
      "Df Residuals:                     195   BIC:                             1476.\n",
      "Df Model:                           2                                         \n",
      "Covariance Type:            nonrobust                                         \n",
      "=====================================================================================\n",
      "                        coef    std err          t      P>|t|      [0.025      0.975]\n",
      "-------------------------------------------------------------------------------------\n",
      "Intercept             2.9037      0.692      4.197      0.000       1.539       4.268\n",
      "C(Drug, Sum)[S.A]     6.5664      0.975      6.736      0.000       4.644       8.489\n",
      "C(Drug, Sum)[S.S]    -3.0750      0.978     -3.143      0.002      -5.005      -1.145\n",
      "==============================================================================\n",
      "Omnibus:                       17.954   Durbin-Watson:                   1.399\n",
      "Prob(Omnibus):                  0.000   Jarque-Bera (JB):               64.007\n",
      "Skew:                           0.080   Prob(JB):                     1.26e-14\n",
      "Kurtosis:                       5.781   Cond. No.                         1.73\n",
      "==============================================================================\n",
      "\n",
      "Notes:\n",
      "[1] Standard Errors assume that the covariance matrix of the errors is correctly specified.\n"
     ]
    }
   ],
   "source": [
    "print(island_lm.summary())"
   ]
  },
  {
   "cell_type": "code",
   "execution_count": 66,
   "id": "8e86742b-5def-405c-bcb2-73087cf3ccea",
   "metadata": {},
   "outputs": [],
   "source": [
    "df_DrugA = df_islander[df_islander.loc[:,\"Drug\"] == \"A\"]"
   ]
  },
  {
   "cell_type": "code",
   "execution_count": 69,
   "id": "7be04066-fc51-4d1c-aacb-ea46a8d6af5f",
   "metadata": {},
   "outputs": [
    {
     "name": "stdout",
     "output_type": "stream",
     "text": [
      "                            OLS Regression Results                            \n",
      "==============================================================================\n",
      "Dep. Variable:                   Diff   R-squared:                       0.520\n",
      "Model:                            OLS   Adj. R-squared:                  0.505\n",
      "Method:                 Least Squares   F-statistic:                     34.70\n",
      "Date:                Thu, 15 Sep 2022   Prob (F-statistic):           6.20e-11\n",
      "Time:                        14:01:47   Log-Likelihood:                -243.11\n",
      "No. Observations:                  67   AIC:                             492.2\n",
      "Df Residuals:                      64   BIC:                             498.8\n",
      "Df Model:                           2                                         \n",
      "Covariance Type:            nonrobust                                         \n",
      "=======================================================================================\n",
      "                          coef    std err          t      P>|t|      [0.025      0.975]\n",
      "---------------------------------------------------------------------------------------\n",
      "Intercept               9.6090      1.139      8.435      0.000       7.333      11.885\n",
      "C(Dosage, Sum)[S.1]    -9.3047      1.599     -5.819      0.000     -12.499      -6.110\n",
      "C(Dosage, Sum)[S.2]    -3.7272      1.617     -2.305      0.024      -6.957      -0.497\n",
      "==============================================================================\n",
      "Omnibus:                        2.762   Durbin-Watson:                   2.179\n",
      "Prob(Omnibus):                  0.251   Jarque-Bera (JB):                1.973\n",
      "Skew:                           0.377   Prob(JB):                        0.373\n",
      "Kurtosis:                       3.371   Cond. No.                         1.73\n",
      "==============================================================================\n",
      "\n",
      "Notes:\n",
      "[1] Standard Errors assume that the covariance matrix of the errors is correctly specified.\n"
     ]
    }
   ],
   "source": [
    "drugA_lm = ols('Diff ~ C(Dosage, Sum)', data = df_DrugA).fit()\n",
    "print(drugA_lm.summary())"
   ]
  },
  {
   "cell_type": "code",
   "execution_count": 70,
   "id": "b1e2bf13-9e34-4216-a2be-27bbc4ed2504",
   "metadata": {},
   "outputs": [
    {
     "data": {
      "text/html": [
       "<div>\n",
       "<style scoped>\n",
       "    .dataframe tbody tr th:only-of-type {\n",
       "        vertical-align: middle;\n",
       "    }\n",
       "\n",
       "    .dataframe tbody tr th {\n",
       "        vertical-align: top;\n",
       "    }\n",
       "\n",
       "    .dataframe thead th {\n",
       "        text-align: right;\n",
       "    }\n",
       "</style>\n",
       "<table border=\"1\" class=\"dataframe\">\n",
       "  <thead>\n",
       "    <tr style=\"text-align: right;\">\n",
       "      <th></th>\n",
       "      <th>sum_sq</th>\n",
       "      <th>df</th>\n",
       "      <th>F</th>\n",
       "      <th>PR(&gt;F)</th>\n",
       "    </tr>\n",
       "  </thead>\n",
       "  <tbody>\n",
       "    <tr>\n",
       "      <th>C(Dosage, Sum)</th>\n",
       "      <td>6031.864824</td>\n",
       "      <td>2.0</td>\n",
       "      <td>34.70244</td>\n",
       "      <td>6.198180e-11</td>\n",
       "    </tr>\n",
       "    <tr>\n",
       "      <th>Residual</th>\n",
       "      <td>5562.135474</td>\n",
       "      <td>64.0</td>\n",
       "      <td>NaN</td>\n",
       "      <td>NaN</td>\n",
       "    </tr>\n",
       "  </tbody>\n",
       "</table>\n",
       "</div>"
      ],
      "text/plain": [
       "                     sum_sq    df         F        PR(>F)\n",
       "C(Dosage, Sum)  6031.864824   2.0  34.70244  6.198180e-11\n",
       "Residual        5562.135474  64.0       NaN           NaN"
      ]
     },
     "execution_count": 70,
     "metadata": {},
     "output_type": "execute_result"
    }
   ],
   "source": [
    "sm.stats.anova_lm(drugA_lm, typ = 2)"
   ]
  },
  {
   "cell_type": "code",
   "execution_count": 79,
   "id": "84dbd3b0-ed4d-4a2d-9037-404d10f9f882",
   "metadata": {},
   "outputs": [
    {
     "ename": "AttributeError",
     "evalue": "'OLSResults' object has no attribute 'hat_diag'",
     "output_type": "error",
     "traceback": [
      "\u001b[0;31m---------------------------------------------------------------------------\u001b[0m",
      "\u001b[0;31mAttributeError\u001b[0m                            Traceback (most recent call last)",
      "\u001b[0;32m/tmp/ipykernel_45907/854860286.py\u001b[0m in \u001b[0;36m<cell line: 1>\u001b[0;34m()\u001b[0m\n\u001b[0;32m----> 1\u001b[0;31m \u001b[0mdrugA_lm\u001b[0m\u001b[0;34m.\u001b[0m\u001b[0mhat_diag\u001b[0m\u001b[0;34m\u001b[0m\u001b[0;34m\u001b[0m\u001b[0m\n\u001b[0m",
      "\u001b[0;32m~/.local/lib/python3.10/site-packages/statsmodels/base/wrapper.py\u001b[0m in \u001b[0;36m__getattribute__\u001b[0;34m(self, attr)\u001b[0m\n\u001b[1;32m     32\u001b[0m             \u001b[0;32mpass\u001b[0m\u001b[0;34m\u001b[0m\u001b[0;34m\u001b[0m\u001b[0m\n\u001b[1;32m     33\u001b[0m \u001b[0;34m\u001b[0m\u001b[0m\n\u001b[0;32m---> 34\u001b[0;31m         \u001b[0mobj\u001b[0m \u001b[0;34m=\u001b[0m \u001b[0mgetattr\u001b[0m\u001b[0;34m(\u001b[0m\u001b[0mresults\u001b[0m\u001b[0;34m,\u001b[0m \u001b[0mattr\u001b[0m\u001b[0;34m)\u001b[0m\u001b[0;34m\u001b[0m\u001b[0;34m\u001b[0m\u001b[0m\n\u001b[0m\u001b[1;32m     35\u001b[0m         \u001b[0mdata\u001b[0m \u001b[0;34m=\u001b[0m \u001b[0mresults\u001b[0m\u001b[0;34m.\u001b[0m\u001b[0mmodel\u001b[0m\u001b[0;34m.\u001b[0m\u001b[0mdata\u001b[0m\u001b[0;34m\u001b[0m\u001b[0;34m\u001b[0m\u001b[0m\n\u001b[1;32m     36\u001b[0m         \u001b[0mhow\u001b[0m \u001b[0;34m=\u001b[0m \u001b[0mself\u001b[0m\u001b[0;34m.\u001b[0m\u001b[0m_wrap_attrs\u001b[0m\u001b[0;34m.\u001b[0m\u001b[0mget\u001b[0m\u001b[0;34m(\u001b[0m\u001b[0mattr\u001b[0m\u001b[0;34m)\u001b[0m\u001b[0;34m\u001b[0m\u001b[0;34m\u001b[0m\u001b[0m\n",
      "\u001b[0;31mAttributeError\u001b[0m: 'OLSResults' object has no attribute 'hat_diag'"
     ]
    }
   ],
   "source": [
    "drugA_lm.hat_diag"
   ]
  },
  {
   "cell_type": "code",
   "execution_count": 77,
   "id": "36a7691d-b8b8-4c24-b262-bf5a6202a879",
   "metadata": {},
   "outputs": [
    {
     "data": {
      "text/html": [
       "<div>\n",
       "<style scoped>\n",
       "    .dataframe tbody tr th:only-of-type {\n",
       "        vertical-align: middle;\n",
       "    }\n",
       "\n",
       "    .dataframe tbody tr th {\n",
       "        vertical-align: top;\n",
       "    }\n",
       "\n",
       "    .dataframe thead th {\n",
       "        text-align: right;\n",
       "    }\n",
       "</style>\n",
       "<table border=\"1\" class=\"dataframe\">\n",
       "  <thead>\n",
       "    <tr style=\"text-align: right;\">\n",
       "      <th></th>\n",
       "      <th>dfb_Intercept</th>\n",
       "      <th>dfb_C(Dosage, Sum)[S.1]</th>\n",
       "      <th>dfb_C(Dosage, Sum)[S.2]</th>\n",
       "      <th>cooks_d</th>\n",
       "      <th>standard_resid</th>\n",
       "      <th>hat_diag</th>\n",
       "      <th>dffits_internal</th>\n",
       "      <th>student_resid</th>\n",
       "      <th>dffits</th>\n",
       "    </tr>\n",
       "  </thead>\n",
       "  <tbody>\n",
       "    <tr>\n",
       "      <th>0</th>\n",
       "      <td>-0.034389</td>\n",
       "      <td>-0.048995</td>\n",
       "      <td>0.024228</td>\n",
       "      <td>0.001236</td>\n",
       "      <td>-0.285641</td>\n",
       "      <td>0.043478</td>\n",
       "      <td>-0.060899</td>\n",
       "      <td>-0.283582</td>\n",
       "      <td>-0.060460</td>\n",
       "    </tr>\n",
       "    <tr>\n",
       "      <th>1</th>\n",
       "      <td>-0.015895</td>\n",
       "      <td>-0.022646</td>\n",
       "      <td>0.011198</td>\n",
       "      <td>0.000264</td>\n",
       "      <td>-0.132091</td>\n",
       "      <td>0.043478</td>\n",
       "      <td>-0.028162</td>\n",
       "      <td>-0.131073</td>\n",
       "      <td>-0.027945</td>\n",
       "    </tr>\n",
       "    <tr>\n",
       "      <th>2</th>\n",
       "      <td>-0.064865</td>\n",
       "      <td>-0.092416</td>\n",
       "      <td>0.045699</td>\n",
       "      <td>0.004384</td>\n",
       "      <td>-0.537902</td>\n",
       "      <td>0.043478</td>\n",
       "      <td>-0.114681</td>\n",
       "      <td>-0.534893</td>\n",
       "      <td>-0.114040</td>\n",
       "    </tr>\n",
       "    <tr>\n",
       "      <th>3</th>\n",
       "      <td>-0.010615</td>\n",
       "      <td>-0.015123</td>\n",
       "      <td>0.007478</td>\n",
       "      <td>0.000118</td>\n",
       "      <td>-0.088220</td>\n",
       "      <td>0.043478</td>\n",
       "      <td>-0.018809</td>\n",
       "      <td>-0.087533</td>\n",
       "      <td>-0.018662</td>\n",
       "    </tr>\n",
       "    <tr>\n",
       "      <th>4</th>\n",
       "      <td>-0.002697</td>\n",
       "      <td>-0.003842</td>\n",
       "      <td>0.001900</td>\n",
       "      <td>0.000008</td>\n",
       "      <td>-0.022413</td>\n",
       "      <td>0.043478</td>\n",
       "      <td>-0.004778</td>\n",
       "      <td>-0.022237</td>\n",
       "      <td>-0.004741</td>\n",
       "    </tr>\n",
       "    <tr>\n",
       "      <th>...</th>\n",
       "      <td>...</td>\n",
       "      <td>...</td>\n",
       "      <td>...</td>\n",
       "      <td>...</td>\n",
       "      <td>...</td>\n",
       "      <td>...</td>\n",
       "      <td>...</td>\n",
       "      <td>...</td>\n",
       "      <td>...</td>\n",
       "    </tr>\n",
       "    <tr>\n",
       "      <th>62</th>\n",
       "      <td>-0.236298</td>\n",
       "      <td>0.168330</td>\n",
       "      <td>0.166477</td>\n",
       "      <td>0.052985</td>\n",
       "      <td>-1.827040</td>\n",
       "      <td>0.045455</td>\n",
       "      <td>-0.398693</td>\n",
       "      <td>-1.861916</td>\n",
       "      <td>-0.406303</td>\n",
       "    </tr>\n",
       "    <tr>\n",
       "      <th>63</th>\n",
       "      <td>0.058981</td>\n",
       "      <td>-0.042016</td>\n",
       "      <td>-0.041553</td>\n",
       "      <td>0.003471</td>\n",
       "      <td>0.467614</td>\n",
       "      <td>0.045455</td>\n",
       "      <td>0.102042</td>\n",
       "      <td>0.464741</td>\n",
       "      <td>0.101415</td>\n",
       "    </tr>\n",
       "    <tr>\n",
       "      <th>64</th>\n",
       "      <td>-0.037919</td>\n",
       "      <td>0.027012</td>\n",
       "      <td>0.026715</td>\n",
       "      <td>0.001437</td>\n",
       "      <td>-0.300930</td>\n",
       "      <td>0.045455</td>\n",
       "      <td>-0.065668</td>\n",
       "      <td>-0.298781</td>\n",
       "      <td>-0.065199</td>\n",
       "    </tr>\n",
       "    <tr>\n",
       "      <th>65</th>\n",
       "      <td>0.045101</td>\n",
       "      <td>-0.032128</td>\n",
       "      <td>-0.031774</td>\n",
       "      <td>0.002032</td>\n",
       "      <td>0.357822</td>\n",
       "      <td>0.045455</td>\n",
       "      <td>0.078083</td>\n",
       "      <td>0.355371</td>\n",
       "      <td>0.077548</td>\n",
       "    </tr>\n",
       "    <tr>\n",
       "      <th>66</th>\n",
       "      <td>-0.010243</td>\n",
       "      <td>0.007297</td>\n",
       "      <td>0.007217</td>\n",
       "      <td>0.000105</td>\n",
       "      <td>-0.081346</td>\n",
       "      <td>0.045455</td>\n",
       "      <td>-0.017751</td>\n",
       "      <td>-0.080712</td>\n",
       "      <td>-0.017613</td>\n",
       "    </tr>\n",
       "  </tbody>\n",
       "</table>\n",
       "<p>67 rows × 9 columns</p>\n",
       "</div>"
      ],
      "text/plain": [
       "    dfb_Intercept  dfb_C(Dosage, Sum)[S.1]  dfb_C(Dosage, Sum)[S.2]   cooks_d  \\\n",
       "0       -0.034389                -0.048995                 0.024228  0.001236   \n",
       "1       -0.015895                -0.022646                 0.011198  0.000264   \n",
       "2       -0.064865                -0.092416                 0.045699  0.004384   \n",
       "3       -0.010615                -0.015123                 0.007478  0.000118   \n",
       "4       -0.002697                -0.003842                 0.001900  0.000008   \n",
       "..            ...                      ...                      ...       ...   \n",
       "62      -0.236298                 0.168330                 0.166477  0.052985   \n",
       "63       0.058981                -0.042016                -0.041553  0.003471   \n",
       "64      -0.037919                 0.027012                 0.026715  0.001437   \n",
       "65       0.045101                -0.032128                -0.031774  0.002032   \n",
       "66      -0.010243                 0.007297                 0.007217  0.000105   \n",
       "\n",
       "    standard_resid  hat_diag  dffits_internal  student_resid    dffits  \n",
       "0        -0.285641  0.043478        -0.060899      -0.283582 -0.060460  \n",
       "1        -0.132091  0.043478        -0.028162      -0.131073 -0.027945  \n",
       "2        -0.537902  0.043478        -0.114681      -0.534893 -0.114040  \n",
       "3        -0.088220  0.043478        -0.018809      -0.087533 -0.018662  \n",
       "4        -0.022413  0.043478        -0.004778      -0.022237 -0.004741  \n",
       "..             ...       ...              ...            ...       ...  \n",
       "62       -1.827040  0.045455        -0.398693      -1.861916 -0.406303  \n",
       "63        0.467614  0.045455         0.102042       0.464741  0.101415  \n",
       "64       -0.300930  0.045455        -0.065668      -0.298781 -0.065199  \n",
       "65        0.357822  0.045455         0.078083       0.355371  0.077548  \n",
       "66       -0.081346  0.045455        -0.017751      -0.080712 -0.017613  \n",
       "\n",
       "[67 rows x 9 columns]"
      ]
     },
     "execution_count": 77,
     "metadata": {},
     "output_type": "execute_result"
    }
   ],
   "source": [
    "from statsmodels.stats.outliers_influence import OLSInfluence\n",
    "OLSInfluence(drugA_lm).summary_frame() "
   ]
  },
  {
   "cell_type": "code",
   "execution_count": 78,
   "id": "d731d1bc-829c-4c6b-9e06-c48ce1e4d4ba",
   "metadata": {},
   "outputs": [
    {
     "data": {
      "text/html": [
       "<div>\n",
       "<style scoped>\n",
       "    .dataframe tbody tr th:only-of-type {\n",
       "        vertical-align: middle;\n",
       "    }\n",
       "\n",
       "    .dataframe tbody tr th {\n",
       "        vertical-align: top;\n",
       "    }\n",
       "\n",
       "    .dataframe thead th {\n",
       "        text-align: right;\n",
       "    }\n",
       "</style>\n",
       "<table border=\"1\" class=\"dataframe\">\n",
       "  <thead>\n",
       "    <tr style=\"text-align: right;\">\n",
       "      <th></th>\n",
       "      <th>dfb_Intercept</th>\n",
       "      <th>dfb_C(Drug, Sum)[S.A]</th>\n",
       "      <th>dfb_C(Drug, Sum)[S.S]</th>\n",
       "      <th>cooks_d</th>\n",
       "      <th>standard_resid</th>\n",
       "      <th>hat_diag</th>\n",
       "      <th>dffits_internal</th>\n",
       "      <th>student_resid</th>\n",
       "      <th>dffits</th>\n",
       "    </tr>\n",
       "  </thead>\n",
       "  <tbody>\n",
       "    <tr>\n",
       "      <th>0</th>\n",
       "      <td>-0.086024</td>\n",
       "      <td>-0.122117</td>\n",
       "      <td>0.060830</td>\n",
       "      <td>0.007495</td>\n",
       "      <td>-1.218169</td>\n",
       "      <td>0.014925</td>\n",
       "      <td>-0.149946</td>\n",
       "      <td>-1.219691</td>\n",
       "      <td>-0.150134</td>\n",
       "    </tr>\n",
       "    <tr>\n",
       "      <th>1</th>\n",
       "      <td>-0.075727</td>\n",
       "      <td>-0.107500</td>\n",
       "      <td>0.053549</td>\n",
       "      <td>0.005818</td>\n",
       "      <td>-1.073274</td>\n",
       "      <td>0.014925</td>\n",
       "      <td>-0.132111</td>\n",
       "      <td>-1.073694</td>\n",
       "      <td>-0.132163</td>\n",
       "    </tr>\n",
       "    <tr>\n",
       "      <th>2</th>\n",
       "      <td>-0.103003</td>\n",
       "      <td>-0.146221</td>\n",
       "      <td>0.072837</td>\n",
       "      <td>0.010710</td>\n",
       "      <td>-1.456211</td>\n",
       "      <td>0.014925</td>\n",
       "      <td>-0.179247</td>\n",
       "      <td>-1.460435</td>\n",
       "      <td>-0.179767</td>\n",
       "    </tr>\n",
       "    <tr>\n",
       "      <th>3</th>\n",
       "      <td>-0.072789</td>\n",
       "      <td>-0.103330</td>\n",
       "      <td>0.051472</td>\n",
       "      <td>0.005378</td>\n",
       "      <td>-1.031875</td>\n",
       "      <td>0.014925</td>\n",
       "      <td>-0.127015</td>\n",
       "      <td>-1.032048</td>\n",
       "      <td>-0.127036</td>\n",
       "    </tr>\n",
       "    <tr>\n",
       "      <th>4</th>\n",
       "      <td>-0.068387</td>\n",
       "      <td>-0.097081</td>\n",
       "      <td>0.048359</td>\n",
       "      <td>0.004750</td>\n",
       "      <td>-0.969777</td>\n",
       "      <td>0.014925</td>\n",
       "      <td>-0.119371</td>\n",
       "      <td>-0.969629</td>\n",
       "      <td>-0.119353</td>\n",
       "    </tr>\n",
       "    <tr>\n",
       "      <th>...</th>\n",
       "      <td>...</td>\n",
       "      <td>...</td>\n",
       "      <td>...</td>\n",
       "      <td>...</td>\n",
       "      <td>...</td>\n",
       "      <td>...</td>\n",
       "      <td>...</td>\n",
       "      <td>...</td>\n",
       "      <td>...</td>\n",
       "    </tr>\n",
       "    <tr>\n",
       "      <th>193</th>\n",
       "      <td>0.026947</td>\n",
       "      <td>-0.019127</td>\n",
       "      <td>-0.019055</td>\n",
       "      <td>0.000718</td>\n",
       "      <td>0.371400</td>\n",
       "      <td>0.015385</td>\n",
       "      <td>0.046425</td>\n",
       "      <td>0.370578</td>\n",
       "      <td>0.046322</td>\n",
       "    </tr>\n",
       "    <tr>\n",
       "      <th>194</th>\n",
       "      <td>-0.011356</td>\n",
       "      <td>0.008060</td>\n",
       "      <td>0.008030</td>\n",
       "      <td>0.000128</td>\n",
       "      <td>-0.156555</td>\n",
       "      <td>0.015385</td>\n",
       "      <td>-0.019569</td>\n",
       "      <td>-0.156163</td>\n",
       "      <td>-0.019520</td>\n",
       "    </tr>\n",
       "    <tr>\n",
       "      <th>195</th>\n",
       "      <td>0.021687</td>\n",
       "      <td>-0.015393</td>\n",
       "      <td>-0.015335</td>\n",
       "      <td>0.000465</td>\n",
       "      <td>0.298936</td>\n",
       "      <td>0.015385</td>\n",
       "      <td>0.037367</td>\n",
       "      <td>0.298237</td>\n",
       "      <td>0.037280</td>\n",
       "    </tr>\n",
       "    <tr>\n",
       "      <th>196</th>\n",
       "      <td>0.005914</td>\n",
       "      <td>-0.004198</td>\n",
       "      <td>-0.004182</td>\n",
       "      <td>0.000035</td>\n",
       "      <td>0.081542</td>\n",
       "      <td>0.015385</td>\n",
       "      <td>0.010193</td>\n",
       "      <td>0.081334</td>\n",
       "      <td>0.010167</td>\n",
       "    </tr>\n",
       "    <tr>\n",
       "      <th>197</th>\n",
       "      <td>-0.003096</td>\n",
       "      <td>0.002197</td>\n",
       "      <td>0.002189</td>\n",
       "      <td>0.000009</td>\n",
       "      <td>-0.042682</td>\n",
       "      <td>0.015385</td>\n",
       "      <td>-0.005335</td>\n",
       "      <td>-0.042573</td>\n",
       "      <td>-0.005322</td>\n",
       "    </tr>\n",
       "  </tbody>\n",
       "</table>\n",
       "<p>198 rows × 9 columns</p>\n",
       "</div>"
      ],
      "text/plain": [
       "     dfb_Intercept  dfb_C(Drug, Sum)[S.A]  dfb_C(Drug, Sum)[S.S]   cooks_d  \\\n",
       "0        -0.086024              -0.122117               0.060830  0.007495   \n",
       "1        -0.075727              -0.107500               0.053549  0.005818   \n",
       "2        -0.103003              -0.146221               0.072837  0.010710   \n",
       "3        -0.072789              -0.103330               0.051472  0.005378   \n",
       "4        -0.068387              -0.097081               0.048359  0.004750   \n",
       "..             ...                    ...                    ...       ...   \n",
       "193       0.026947              -0.019127              -0.019055  0.000718   \n",
       "194      -0.011356               0.008060               0.008030  0.000128   \n",
       "195       0.021687              -0.015393              -0.015335  0.000465   \n",
       "196       0.005914              -0.004198              -0.004182  0.000035   \n",
       "197      -0.003096               0.002197               0.002189  0.000009   \n",
       "\n",
       "     standard_resid  hat_diag  dffits_internal  student_resid    dffits  \n",
       "0         -1.218169  0.014925        -0.149946      -1.219691 -0.150134  \n",
       "1         -1.073274  0.014925        -0.132111      -1.073694 -0.132163  \n",
       "2         -1.456211  0.014925        -0.179247      -1.460435 -0.179767  \n",
       "3         -1.031875  0.014925        -0.127015      -1.032048 -0.127036  \n",
       "4         -0.969777  0.014925        -0.119371      -0.969629 -0.119353  \n",
       "..              ...       ...              ...            ...       ...  \n",
       "193        0.371400  0.015385         0.046425       0.370578  0.046322  \n",
       "194       -0.156555  0.015385        -0.019569      -0.156163 -0.019520  \n",
       "195        0.298936  0.015385         0.037367       0.298237  0.037280  \n",
       "196        0.081542  0.015385         0.010193       0.081334  0.010167  \n",
       "197       -0.042682  0.015385        -0.005335      -0.042573 -0.005322  \n",
       "\n",
       "[198 rows x 9 columns]"
      ]
     },
     "execution_count": 78,
     "metadata": {},
     "output_type": "execute_result"
    }
   ],
   "source": [
    "OLSInfluence(island_lm).summary_frame() "
   ]
  },
  {
   "cell_type": "code",
   "execution_count": null,
   "id": "117bcd72-8677-4a49-8def-23eb9deff918",
   "metadata": {},
   "outputs": [],
   "source": []
  }
 ],
 "metadata": {
  "kernelspec": {
   "display_name": "Python 3 (ipykernel)",
   "language": "python",
   "name": "python3"
  },
  "language_info": {
   "codemirror_mode": {
    "name": "ipython",
    "version": 3
   },
   "file_extension": ".py",
   "mimetype": "text/x-python",
   "name": "python",
   "nbconvert_exporter": "python",
   "pygments_lexer": "ipython3",
   "version": "3.10.6"
  }
 },
 "nbformat": 4,
 "nbformat_minor": 5
}
